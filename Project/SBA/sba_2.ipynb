{
 "cells": [
  {
   "attachments": {},
   "cell_type": "markdown",
   "metadata": {},
   "source": [
    "### Cell Data 읽기"
   ]
  },
  {
   "cell_type": "code",
   "execution_count": 2,
   "metadata": {},
   "outputs": [
    {
     "name": "stdout",
     "output_type": "stream",
     "text": [
      "cell(1,2) :  기업명\n",
      "Range(\"B1\"): 기업명\n"
     ]
    }
   ],
   "source": [
    "import openpyxl as op\n",
    "\n",
    "wb =op.load_workbook(r\"mideok.xlsx\")\n",
    "ws = wb.active\n",
    "\n",
    "# 방법 1 : Sheet Cell 속성 사용하기\n",
    "#  .value 붙여야 실제값 읽어옴, 안붙이면 튜플로 읽어옴\n",
    "\n",
    "data1 = ws.cell(row=1, column=2).value\n",
    "\n",
    "# 방법 2 : 엑셀 인덱스(Range) 사용하기\n",
    "data2 = ws[\"B1\"].value \n",
    "\n",
    "# 위 결과 출력\n",
    "print(\"cell(1,2) : \", data1)\n",
    "print('Range(\"B1\"):', data2)"
   ]
  },
  {
   "cell_type": "code",
   "execution_count": 5,
   "metadata": {},
   "outputs": [
    {
     "name": "stdout",
     "output_type": "stream",
     "text": [
      "Range(a1:b1) :  ((<Cell 'Sheet2'.A1>, <Cell 'Sheet2'.B1>),)\n"
     ]
    }
   ],
   "source": [
    "rng = ws[\"A1:B1\"] # A1:B1 범위 저장\n",
    "print(\"Range(a1:b1) : \", rng) # 출력값은 튜플"
   ]
  },
  {
   "cell_type": "code",
   "execution_count": 6,
   "metadata": {},
   "outputs": [
    {
     "name": "stdout",
     "output_type": "stream",
     "text": [
      "NO\n",
      "기업명\n",
      "업종명_10차\n",
      "16163\n",
      "달빛(주)\n",
      "포털 및 기타 인터넷 정보매개 서비스업\n",
      "16164\n",
      "(주)지산크리에이티브스\n",
      "광고 영화 및 비디오물 제작업\n"
     ]
    }
   ],
   "source": [
    "rng = ws[\"A1:C3\"] # A1:C3 범위 저장(총 9개 Cell)\n",
    "\n",
    "for rng_data in rng: # 튜플 첫번째 차원 : 색깔이 다른 영역 data\n",
    "    for cell_data in rng_data: # 튜플 두번째 차원을 위한 for문 : 1개 Cell 요소\n",
    "\n",
    "        print(cell_data.value) # 각 Cell 요소 값 출력"
   ]
  },
  {
   "attachments": {},
   "cell_type": "markdown",
   "metadata": {},
   "source": [
    "### Cell Data 쓰기"
   ]
  },
  {
   "cell_type": "code",
   "execution_count": 7,
   "metadata": {},
   "outputs": [],
   "source": [
    "import openpyxl as op \n",
    "\n",
    "wb = op.load_workbook(r\"mideok.xlsx\") # Workbook 객체 생성\n",
    "ws = wb[\"16163~332325\"] # WorkSheet 객체 생성(\"16163~332325\" Sheet)\n",
    "\n",
    "# \"B1\" Cell에 입력하기\n",
    "ws.cell(row=1, column=2).value = \"입력테스트1\"\n",
    "\n",
    "# \"C1\" Cell에 입력하기\n",
    "ws[\"C1\"].value = \"입력테스트2\"\n",
    "\n",
    "wb.save(\"result.xlsx\") # 엑셀 파일 저장"
   ]
  },
  {
   "attachments": {},
   "cell_type": "markdown",
   "metadata": {},
   "source": [
    "### Cell Data 조건문\n",
    "* 3, 4, 5 열 조건 표현식(Conditional Expression) 중첩\n",
    "* 다중조건문 elif 쓰기"
   ]
  },
  {
   "cell_type": "code",
   "execution_count": 23,
   "metadata": {},
   "outputs": [],
   "source": [
    "wb = op.load_workbook(r\"mideok.xlsx\") # Workbook 객체 생성\n",
    "ws = wb[\"16163~332325\"] \n",
    "\n",
    "# 함수 생성\n",
    "def category():\n",
    "    # 최대 행값 구하기\n",
    "    max_row = ws.max_row\n",
    "    # 최대 행값 활용하여 for문 (2행부터 최대행까지)\n",
    "    for row_index in range(2, max_row+1):\n",
    "        # D열 '제조업' Cell 데이터 cate1 변수에 저장\n",
    "        cate1 = ws.cell(row = row_index, column=3).value # 3열\n",
    "        # D열 Cell이 '제조업'이면 '제조업' 표시\n",
    "        if \"제조업\" in cate1: ws.cell(row=row_index, column=7).value = \"제조업\"\n",
    "        # D열이 Cell이 \"제조업\" 아니면 pass\n",
    "        else: pass\n",
    "            # ws.cell(row=row_index, column=7).value = \" \"\n",
    "\n",
    "# 실행부\n",
    "if __name__ == \"__main__\":\n",
    "    category()\n",
    "    wb.save(\"result3.xlsx\")"
   ]
  }
 ],
 "metadata": {
  "kernelspec": {
   "display_name": "study",
   "language": "python",
   "name": "python3"
  },
  "language_info": {
   "codemirror_mode": {
    "name": "ipython",
    "version": 3
   },
   "file_extension": ".py",
   "mimetype": "text/x-python",
   "name": "python",
   "nbconvert_exporter": "python",
   "pygments_lexer": "ipython3",
   "version": "3.10.4"
  },
  "orig_nbformat": 4,
  "vscode": {
   "interpreter": {
    "hash": "cdb3408ddd590d3368dab592099dfbb7bb79f8272c754c134a9f1c06d64a117d"
   }
  }
 },
 "nbformat": 4,
 "nbformat_minor": 2
}
