{
 "cells": [
  {
   "cell_type": "code",
   "execution_count": 1,
   "id": "643ed968",
   "metadata": {},
   "outputs": [],
   "source": [
    "import sys\n",
    "import glob\n",
    "import cv2"
   ]
  },
  {
   "cell_type": "code",
   "execution_count": 2,
   "id": "9fc100f8",
   "metadata": {},
   "outputs": [],
   "source": [
    "img_files = glob.glob('.\\\\images\\\\*.jpg')\n",
    "\n",
    "if not img_files:\n",
    "    print(\"There are no jpg files in 'images' folder\")\n",
    "    sys.exit()"
   ]
  },
  {
   "cell_type": "code",
   "execution_count": 3,
   "id": "07753e31",
   "metadata": {},
   "outputs": [],
   "source": [
    "cv2.namedWindow('image', cv2.WINDOW_NORMAL)\n",
    "cv2.setWindowProperty('image',cv2.WND_PROP_FULLSCREEN,cv2.WINDOW_FULLSCREEN)\n",
    "\n",
    "cnt = len(img_files)\n",
    "idx = 0"
   ]
  },
  {
   "cell_type": "code",
   "execution_count": 1,
   "id": "8bc3c59a",
   "metadata": {},
   "outputs": [
    {
     "ename": "NameError",
     "evalue": "name 'cv2' is not defined",
     "output_type": "error",
     "traceback": [
      "\u001b[1;31m---------------------------------------------------------------------------\u001b[0m",
      "\u001b[1;31mNameError\u001b[0m                                 Traceback (most recent call last)",
      "Input \u001b[1;32mIn [1]\u001b[0m, in \u001b[0;36m<cell line: 2>\u001b[1;34m()\u001b[0m\n\u001b[0;32m      1\u001b[0m \u001b[38;5;28;01mwhile\u001b[39;00m \u001b[38;5;28;01mTrue\u001b[39;00m:\n\u001b[1;32m----> 2\u001b[0m     img \u001b[38;5;241m=\u001b[39m \u001b[43mcv2\u001b[49m\u001b[38;5;241m.\u001b[39mimread(img_files[idx])\n\u001b[0;32m      4\u001b[0m     \u001b[38;5;28;01mif\u001b[39;00m img \u001b[38;5;129;01mis\u001b[39;00m \u001b[38;5;28;01mNone\u001b[39;00m:\n\u001b[0;32m      5\u001b[0m         \u001b[38;5;28mprint\u001b[39m(\u001b[38;5;124m'\u001b[39m\u001b[38;5;124mImage load failed!\u001b[39m\u001b[38;5;124m'\u001b[39m)\n",
      "\u001b[1;31mNameError\u001b[0m: name 'cv2' is not defined"
     ]
    }
   ],
   "source": [
    "while True:\n",
    "    img = cv2.imread(img_files[idx])\n",
    "    \n",
    "    if img is None:\n",
    "        print('Image load failed!')\n",
    "        break\n",
    "        \n",
    "    cv2.imshow('image', img)\n",
    "    if cv2.waitKey(2000) >= 0:     # 이미지를 2초씩 보여준다\n",
    "        break\n",
    "    \n",
    "    idx += 1\n",
    "    if idx >= cnt:\n",
    "        idc = 0\n",
    "\n",
    "cv2.destroyAllWindows()"
   ]
  },
  {
   "cell_type": "code",
   "execution_count": null,
   "id": "bd8a240a",
   "metadata": {},
   "outputs": [],
   "source": [
    "import sys\n",
    "import glob\n",
    "import cv2\n",
    "# 이미지 파일을 모두 img_files 리스트에 추가\n",
    "img_files = glob.glob('.\\\\images\\\\*.jpg')\n",
    "if not img_files:\n",
    "    print(\"There are no jpg files in 'images' folder\")\n",
    "    sys.exit()\n",
    "# 전체 화면으로 'image' 창 생성\n",
    "cv2.namedWindow('image', cv2.WINDOW_NORMAL)\n",
    "cv2.setWindowProperty('image', cv2.WND_PROP_FULLSCREEN, cv2.WINDOW_FULLSCREEN)\n",
    "# 무한 루프\n",
    "cnt = len(img_files)\n",
    "idx = 0\n",
    "while True:\n",
    "    img = cv2.imread(img_files[idx])\n",
    "    if img is None:\n",
    "        print('Image load failed!')\n",
    "        break\n",
    "    cv2.imshow('image', img)\n",
    "    if cv2.waitKey(2000) >= 0:\n",
    "        break\n",
    "    idx += 1\n",
    "    if idx >= cnt:\n",
    "        idx = 0\n",
    "cv2.destroyAllWindows()"
   ]
  },
  {
   "cell_type": "code",
   "execution_count": null,
   "id": "d41c4bcf",
   "metadata": {},
   "outputs": [],
   "source": [
    "import sys\n",
    "import numpy as np\n",
    "import cv2\n",
    "# 두 개의 동영상을 열어서 cap1, cap2로 지정\n",
    "cap1 = cv2.VideoCapture('video1.mp4')\n",
    "cap2 = cv2.VideoCapture('video2.mp4')\n",
    "if not cap1.isOpened() or not cap2.isOpened():\n",
    "    print('video open failed!')\n",
    "    sys.exit()\n",
    "# 두 동영상의 크기, FPS는 같다고 가정함\n",
    "frame_cnt1 = round(cap1.get(cv2.CAP_PROP_FRAME_COUNT))\n",
    "frame_cnt2 = round(cap2.get(cv2.CAP_PROP_FRAME_COUNT))\n",
    "fps = cap1.get(cv2.CAP_PROP_FPS)\n",
    "effect_frames = int(fps * 2)\n",
    "print('frame_cnt1:', frame_cnt1)\n",
    "print('frame_cnt2:', frame_cnt2)\n",
    "print('FPS:', fps)\n",
    "delay = int(1000 / fps)\n",
    "w = round(cap1.get(cv2.CAP_PROP_FRAME_WIDTH))\n",
    "h = round(cap1.get(cv2.CAP_PROP_FRAME_HEIGHT))\n",
    "fourcc = cv2.VideoWriter_fourcc(*'DIVX')\n",
    "# 출력 동영상 객체 생성\n",
    "out = cv2.VideoWriter('output.avi', fourcc, fps, (w, h))\n",
    "# 1번 동영상 복사\n",
    "for i in range(frame_cnt1 - effect_frames):\n",
    "    ret1, frame1 = cap1.read()\n",
    "    if not ret1:\n",
    "        print('frame read error!')\n",
    "        sys.exit()\n",
    "    out.write(frame1)\n",
    "    print('.', end='')\n",
    "    cv2.imshow('output', frame1)\n",
    "    cv2.waitKey(delay)\n",
    "# 1번 동영상 뒷부분과 2번 동영상 앞부분을 합성\n",
    "for i in range(effect_frames):\n",
    "    ret1, frame1 = cap1.read()\n",
    "    ret2, frame2 = cap2.read()\n",
    "    if not ret1 or not ret2:\n",
    "        print('frame read error!')\n",
    "        sys.exit()\n",
    "    dx = int(w / effect_frames) * i\n",
    "    frame = np.zeros((h, w, 3), dtype=np.uint8)\n",
    "    frame[:, 0:dx, :] = frame2[:, 0:dx, :]\n",
    "    frame[:, dx:w, :] = frame1[:, dx:w, :]\n",
    "    #alpha = i / effect_frames\n",
    "    #frame = cv2.addWeighted(frame1, 1 - alpha, frame2, alpha, 0)\n",
    "    out.write(frame)\n",
    "    print('.', end='')\n",
    "    cv2.imshow('output', frame)\n",
    "    cv2.waitKey(delay)\n",
    "# 2번 동영상을 복사\n",
    "for i in range(effect_frames, frame_cnt2):\n",
    "    ret2, frame2 = cap2.read()\n",
    "    if not ret2:\n",
    "        print('frame read error!')\n",
    "        sys.exit()\n",
    "    out.write(frame2)\n",
    "    print('.', end='')\n",
    "    cv2.imshow('output', frame2)\n",
    "    cv2.waitKey(delay)\n",
    "print('\\noutput.avi file is successfully generated!')\n",
    "cap1.release()\n",
    "cap2.release()\n",
    "out.release()\n",
    "cv2.destroyAllWindows()"
   ]
  }
 ],
 "metadata": {
  "kernelspec": {
   "display_name": "Python 3 (ipykernel)",
   "language": "python",
   "name": "python3"
  },
  "language_info": {
   "codemirror_mode": {
    "name": "ipython",
    "version": 3
   },
   "file_extension": ".py",
   "mimetype": "text/x-python",
   "name": "python",
   "nbconvert_exporter": "python",
   "pygments_lexer": "ipython3",
   "version": "3.9.12"
  }
 },
 "nbformat": 4,
 "nbformat_minor": 5
}
