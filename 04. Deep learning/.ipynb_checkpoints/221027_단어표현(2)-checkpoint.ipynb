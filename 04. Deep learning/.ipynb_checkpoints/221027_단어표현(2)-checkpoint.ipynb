{
 "cells": [
  {
   "cell_type": "markdown",
   "id": "56d58cd2",
   "metadata": {},
   "source": [
    "## Bag of Words(BoW)"
   ]
  },
  {
   "cell_type": "markdown",
   "id": "b673a816",
   "metadata": {},
   "source": [
    "### Basic"
   ]
  },
  {
   "cell_type": "code",
   "execution_count": 1,
   "id": "c0657115",
   "metadata": {
    "scrolled": true
   },
   "outputs": [
    {
     "name": "stdout",
     "output_type": "stream",
     "text": [
      "가 <class 'dict'>\n",
      "물가상승률 <class 'dict'>\n",
      "vocabulary : {'정부': 0, '가': 1, '발표': 2, '하는': 3, '물가상승률': 4, '과': 5, '소비자': 6, '느끼는': 7, '은': 8, '다르다': 9}\n",
      "bag of words vector : [1, 2, 1, 1, 2, 1, 1, 1, 1, 1]\n"
     ]
    }
   ],
   "source": [
    "from konlpy.tag import Okt\n",
    "\n",
    "okt = Okt()\n",
    "\n",
    "def build_bag_of_words(document):\n",
    "    document = document.replace('.', '')\n",
    "    tokenized_document = okt.morphs(document)\n",
    "    \n",
    "    word_to_index = {}\n",
    "    bow = []\n",
    "    \n",
    "    for word in tokenized_document:        \n",
    "        if word not in word_to_index.keys():  # 단어가 처음 나왔을 경우\n",
    "            word_to_index[word] = len(word_to_index)  \n",
    "            bow.insert(len(word_to_index) - 1, 1)\n",
    "        else:                                 # 단어가 다시 나왔을 경우\n",
    "            index = word_to_index.get(word)\n",
    "            print(word, type(word_to_index))\n",
    "            bow[index] = bow[index] + 1\n",
    "                    \n",
    "    return word_to_index, bow\n",
    "    \n",
    "    \n",
    "doc1 = \"정부가 발표하는 물가상승률과 소비자가 느끼는 물가상승률은 다르다.\"\n",
    "vocab, bow = build_bag_of_words(doc1)\n",
    "print('vocabulary :', vocab)\n",
    "print('bag of words vector :', bow)"
   ]
  },
  {
   "cell_type": "code",
   "execution_count": 2,
   "id": "7d08f6b1",
   "metadata": {},
   "outputs": [
    {
     "name": "stdout",
     "output_type": "stream",
     "text": [
      "을 <class 'dict'>\n",
      "vocabulary : {'소비자': 0, '는': 1, '주로': 2, '소비': 3, '하는': 4, '상품': 5, '을': 6, '기준': 7, '으로': 8, '물가상승률': 9, '느낀다': 10}\n",
      "bag of words vector : [1, 1, 1, 1, 1, 1, 2, 1, 1, 1, 1]\n"
     ]
    }
   ],
   "source": [
    "doc2 = '소비자는 주로 소비하는 상품을 기준으로 물가상승률을 느낀다.'\n",
    "\n",
    "vocab, bow = build_bag_of_words(doc2)\n",
    "print('vocabulary :', vocab)\n",
    "print('bag of words vector :', bow)"
   ]
  },
  {
   "cell_type": "code",
   "execution_count": 3,
   "id": "d7cd74a2",
   "metadata": {},
   "outputs": [
    {
     "name": "stdout",
     "output_type": "stream",
     "text": [
      "가 <class 'dict'>\n",
      "물가상승률 <class 'dict'>\n",
      "소비자 <class 'dict'>\n",
      "하는 <class 'dict'>\n",
      "물가상승률 <class 'dict'>\n",
      "을 <class 'dict'>\n",
      "vocabulary : {'정부': 0, '가': 1, '발표': 2, '하는': 3, '물가상승률': 4, '과': 5, '소비자': 6, '느끼는': 7, '은': 8, '다르다': 9, '는': 10, '주로': 11, '소비': 12, '상품': 13, '을': 14, '기준': 15, '으로': 16, '느낀다': 17}\n",
      "bag of words vector : [1, 2, 1, 2, 3, 1, 2, 1, 1, 1, 1, 1, 1, 1, 2, 1, 1, 1]\n"
     ]
    }
   ],
   "source": [
    "doc3 = doc1 + ' ' + doc2\n",
    "vocab, bow = build_bag_of_words(doc3)\n",
    "\n",
    "print('vocabulary :', vocab)\n",
    "print('bag of words vector :', bow)"
   ]
  },
  {
   "cell_type": "markdown",
   "id": "ccfa34d1",
   "metadata": {},
   "source": [
    "### BOW-CountVectorizer "
   ]
  },
  {
   "cell_type": "code",
   "execution_count": 4,
   "id": "260d7d2f",
   "metadata": {},
   "outputs": [
    {
     "name": "stdout",
     "output_type": "stream",
     "text": [
      "bag of words vector : [[1 1 2 1 2 1]]\n",
      "vocabulary : {'you': 4, 'know': 1, 'want': 3, 'your': 5, 'love': 2, 'because': 0}\n"
     ]
    }
   ],
   "source": [
    "# CountVectorizer : 띄어쓰기만으로 토큰화 진행\n",
    "from sklearn.feature_extraction.text import CountVectorizer\n",
    "\n",
    "corpus = ['you know I want your love. because I love you.']\n",
    "vector = CountVectorizer()\n",
    "\n",
    "# 빈도수 기록\n",
    "print('bag of words vector :', vector.fit_transform(corpus).toarray()) \n",
    "\n",
    "# 단어의 인덱스\n",
    "print('vocabulary :',vector.vocabulary_)"
   ]
  },
  {
   "cell_type": "markdown",
   "id": "89b81a55",
   "metadata": {},
   "source": [
    "### BOW-불용어 제거(사용자 정의 불용어)"
   ]
  },
  {
   "cell_type": "code",
   "execution_count": 5,
   "id": "fce2389b",
   "metadata": {},
   "outputs": [],
   "source": [
    "from sklearn.feature_extraction.text import CountVectorizer\n",
    "from nltk.corpus import stopwords"
   ]
  },
  {
   "cell_type": "code",
   "execution_count": 6,
   "id": "11856462",
   "metadata": {},
   "outputs": [
    {
     "name": "stdout",
     "output_type": "stream",
     "text": [
      "bag of words vector : [[1 1 1 1 1]]\n",
      "vocabulary : {'family': 1, 'important': 2, 'thing': 4, 'it': 3, 'everything': 0}\n"
     ]
    }
   ],
   "source": [
    "# 사용자정의 불용어 적용\n",
    "text = [\"Family is not an important thing. It's everything.\"]\n",
    "vect = CountVectorizer(stop_words=[\"the\", \"a\", \"an\", \"is\", \"not\"])\n",
    "\n",
    "print('bag of words vector :',vect.fit_transform(text).toarray())\n",
    "print('vocabulary :',vect.vocabulary_)"
   ]
  },
  {
   "cell_type": "markdown",
   "id": "8251d2e3",
   "metadata": {},
   "source": [
    "### BOW-불용어 제거(CountVectorizer 포함된 불용어)"
   ]
  },
  {
   "cell_type": "code",
   "execution_count": 7,
   "id": "a8aa9309",
   "metadata": {},
   "outputs": [
    {
     "name": "stdout",
     "output_type": "stream",
     "text": [
      "bag of words vector : [[1 1 1]]\n",
      "vocabulary : {'family': 0, 'important': 1, 'thing': 2}\n"
     ]
    }
   ],
   "source": [
    "text = [\"Family is not an important thing. It's everything.\"]\n",
    "vect = CountVectorizer(stop_words=\"english\")\n",
    "\n",
    "print('bag of words vector :',vect.fit_transform(text).toarray())\n",
    "print('vocabulary :',vect.vocabulary_)"
   ]
  },
  {
   "cell_type": "markdown",
   "id": "196c8510",
   "metadata": {},
   "source": [
    "### BOW-불용어 제거(NLTK 포함된 불용어)"
   ]
  },
  {
   "cell_type": "code",
   "execution_count": 8,
   "id": "a22721d5",
   "metadata": {},
   "outputs": [
    {
     "name": "stdout",
     "output_type": "stream",
     "text": [
      "bag of words vector : [[1 1 1 1]]\n",
      "vocabulary : {'family': 1, 'important': 2, 'thing': 3, 'everything': 0}\n"
     ]
    }
   ],
   "source": [
    "text = [\"Family is not an important thing. It's everything.\"]\n",
    "stop_words = stopwords.words(\"english\")\n",
    "\n",
    "vect = CountVectorizer(stop_words=stop_words)\n",
    "print('bag of words vector :',vect.fit_transform(text).toarray()) \n",
    "print('vocabulary :',vect.vocabulary_)"
   ]
  },
  {
   "cell_type": "markdown",
   "id": "f1d94de8",
   "metadata": {},
   "source": [
    "## 문서 단어 행렬(Document-Term Matrix, DTM)"
   ]
  },
  {
   "cell_type": "markdown",
   "id": "4db5c2c0",
   "metadata": {},
   "source": [
    "### 데이터 다운로드"
   ]
  },
  {
   "cell_type": "code",
   "execution_count": 9,
   "id": "8e9965df",
   "metadata": {},
   "outputs": [],
   "source": [
    "# colab : wget -c https://raw.githubusercontent.com/euphoris/datasets/master/imdb.xlsx"
   ]
  },
  {
   "cell_type": "code",
   "execution_count": 10,
   "id": "19ee9838",
   "metadata": {},
   "outputs": [
    {
     "name": "stdout",
     "output_type": "stream",
     "text": [
      "Requirement already satisfied: wget in c:\\users\\82102\\anaconda3\\lib\\site-packages (3.2)\n"
     ]
    }
   ],
   "source": [
    "!pip install wget"
   ]
  },
  {
   "cell_type": "code",
   "execution_count": 11,
   "id": "a0cb8a87",
   "metadata": {},
   "outputs": [
    {
     "name": "stdout",
     "output_type": "stream",
     "text": [
      "100% [..............................................................................] 55772 / 55772"
     ]
    },
    {
     "data": {
      "text/plain": [
       "'imdb (1).xlsx'"
      ]
     },
     "execution_count": 11,
     "metadata": {},
     "output_type": "execute_result"
    }
   ],
   "source": [
    "# windows일 경우\n",
    "import wget\n",
    "\n",
    "wget.download('https://raw.githubusercontent.com/euphoris/datasets/master/imdb.xlsx')"
   ]
  },
  {
   "cell_type": "markdown",
   "id": "1db72aa7",
   "metadata": {},
   "source": [
    "### 데이터 열기"
   ]
  },
  {
   "cell_type": "code",
   "execution_count": 12,
   "id": "bbcd6e45",
   "metadata": {},
   "outputs": [],
   "source": [
    "import pandas as pd\n",
    "\n",
    "df = pd.read_excel('imdb.xlsx', index_col=0)"
   ]
  },
  {
   "cell_type": "code",
   "execution_count": 13,
   "id": "b4a544b9",
   "metadata": {},
   "outputs": [
    {
     "data": {
      "text/html": [
       "<div>\n",
       "<style scoped>\n",
       "    .dataframe tbody tr th:only-of-type {\n",
       "        vertical-align: middle;\n",
       "    }\n",
       "\n",
       "    .dataframe tbody tr th {\n",
       "        vertical-align: top;\n",
       "    }\n",
       "\n",
       "    .dataframe thead th {\n",
       "        text-align: right;\n",
       "    }\n",
       "</style>\n",
       "<table border=\"1\" class=\"dataframe\">\n",
       "  <thead>\n",
       "    <tr style=\"text-align: right;\">\n",
       "      <th></th>\n",
       "      <th>review</th>\n",
       "      <th>sentiment</th>\n",
       "    </tr>\n",
       "  </thead>\n",
       "  <tbody>\n",
       "    <tr>\n",
       "      <th>0</th>\n",
       "      <td>A very, very, very slow-moving, aimless movie ...</td>\n",
       "      <td>0</td>\n",
       "    </tr>\n",
       "    <tr>\n",
       "      <th>1</th>\n",
       "      <td>Not sure who was more lost - the flat characte...</td>\n",
       "      <td>0</td>\n",
       "    </tr>\n",
       "    <tr>\n",
       "      <th>2</th>\n",
       "      <td>Attempting artiness with black &amp; white and cle...</td>\n",
       "      <td>0</td>\n",
       "    </tr>\n",
       "    <tr>\n",
       "      <th>3</th>\n",
       "      <td>Very little music or anything to speak of.</td>\n",
       "      <td>0</td>\n",
       "    </tr>\n",
       "    <tr>\n",
       "      <th>4</th>\n",
       "      <td>The best scene in the movie was when Gerardo i...</td>\n",
       "      <td>1</td>\n",
       "    </tr>\n",
       "  </tbody>\n",
       "</table>\n",
       "</div>"
      ],
      "text/plain": [
       "                                              review  sentiment\n",
       "0  A very, very, very slow-moving, aimless movie ...          0\n",
       "1  Not sure who was more lost - the flat characte...          0\n",
       "2  Attempting artiness with black & white and cle...          0\n",
       "3       Very little music or anything to speak of.            0\n",
       "4  The best scene in the movie was when Gerardo i...          1"
      ]
     },
     "execution_count": 13,
     "metadata": {},
     "output_type": "execute_result"
    }
   ],
   "source": [
    "df.head()"
   ]
  },
  {
   "cell_type": "code",
   "execution_count": 14,
   "id": "f40ec1b6",
   "metadata": {},
   "outputs": [
    {
     "data": {
      "text/plain": [
       "(748, 2)"
      ]
     },
     "execution_count": 14,
     "metadata": {},
     "output_type": "execute_result"
    }
   ],
   "source": [
    "df.shape"
   ]
  },
  {
   "cell_type": "markdown",
   "id": "58a51ec7",
   "metadata": {},
   "source": [
    "### TDM 만들기"
   ]
  },
  {
   "cell_type": "code",
   "execution_count": 15,
   "id": "f588fc98",
   "metadata": {},
   "outputs": [],
   "source": [
    "from sklearn.feature_extraction.text import CountVectorizer\n",
    "\n",
    "# max_features : 빈도순으로 최대 500단어까지 포함\n",
    "# stop_words='english' : 불용어(관사, 전치사등을 제거)\n",
    "cv = CountVectorizer(max_features=500, stop_words='english')"
   ]
  },
  {
   "cell_type": "code",
   "execution_count": 16,
   "id": "d9b3e9ed",
   "metadata": {},
   "outputs": [
    {
     "data": {
      "text/plain": [
       "<748x500 sparse matrix of type '<class 'numpy.int64'>'\n",
       "\twith 3434 stored elements in Compressed Sparse Row format>"
      ]
     },
     "execution_count": 16,
     "metadata": {},
     "output_type": "execute_result"
    }
   ],
   "source": [
    "tdm = cv.fit_transform(df['review'])\n",
    "tdm"
   ]
  },
  {
   "cell_type": "code",
   "execution_count": 17,
   "id": "5191f151",
   "metadata": {},
   "outputs": [
    {
     "data": {
      "text/plain": [
       "(748, 500)"
      ]
     },
     "execution_count": 17,
     "metadata": {},
     "output_type": "execute_result"
    }
   ],
   "source": [
    "tdm.shape"
   ]
  },
  {
   "cell_type": "markdown",
   "id": "8278f14b",
   "metadata": {},
   "source": [
    "### 단어 목록"
   ]
  },
  {
   "cell_type": "code",
   "execution_count": 18,
   "id": "7a45794f",
   "metadata": {},
   "outputs": [
    {
     "name": "stderr",
     "output_type": "stream",
     "text": [
      "C:\\Users\\82102\\anaconda3\\lib\\site-packages\\sklearn\\utils\\deprecation.py:87: FutureWarning: Function get_feature_names is deprecated; get_feature_names is deprecated in 1.0 and will be removed in 1.2. Please use get_feature_names_out instead.\n",
      "  warnings.warn(msg, category=FutureWarning)\n"
     ]
    },
    {
     "data": {
      "text/plain": [
       "['10',\n",
       " '20',\n",
       " '90',\n",
       " 'absolutely',\n",
       " 'acted',\n",
       " 'acting',\n",
       " 'action',\n",
       " 'actor',\n",
       " 'actors',\n",
       " 'actress']"
      ]
     },
     "execution_count": 18,
     "metadata": {},
     "output_type": "execute_result"
    }
   ],
   "source": [
    "# 단어 목록을 볼때는 tdm이 아니라 cv에 저장되어 있음\n",
    "cv.get_feature_names()[:10]"
   ]
  },
  {
   "cell_type": "code",
   "execution_count": 19,
   "id": "de6c9523",
   "metadata": {},
   "outputs": [
    {
     "data": {
      "text/plain": [
       "500"
      ]
     },
     "execution_count": 19,
     "metadata": {},
     "output_type": "execute_result"
    }
   ],
   "source": [
    "len(cv.get_feature_names())"
   ]
  },
  {
   "cell_type": "markdown",
   "id": "2ef7a603",
   "metadata": {},
   "source": [
    "### 단어별 총 빈도"
   ]
  },
  {
   "cell_type": "code",
   "execution_count": 20,
   "id": "d95b776c",
   "metadata": {},
   "outputs": [
    {
     "data": {
      "text/plain": [
       "matrix([[ 29,   3,   6,   9,   3,  43,   7,  10,  19,   3,   3,  10,   3,\n",
       "           4,   3,   4,   9,   3,   3,   3,   6,   3,   4,   3,  13,   4,\n",
       "           3,   5,   3,   8,   5,   3,  14,  71,   4,  11,   4,   6,   8,\n",
       "          25,  18,  10,   5,  10,   4,   3,   4,  10,   3,   3,   6,   7,\n",
       "           3,   4,  10,   5,   3,  18,   6,   8,  24,  35,   4,   3,   7,\n",
       "           3,   4,   5,   8,  10,   6,   5,   5,   7,   4,   3,   3,   5,\n",
       "           3,   3,   4,   4,   7,   4,   5,   3,   4,   6,   4,   3,   5,\n",
       "           4,   3,   5,   4,   3,   9,   3,   4,   3,  13,  11,  22,   5,\n",
       "           3,   9,   5,  12,   6,   3,   9,  12,  26,   4,  10,   3,   3,\n",
       "           3,   3,   4,   4,   3,   6,   3,   9,  11,  11,   4,   5,   3,\n",
       "           9,   4,   6,   3,   8,   3,   3,  16,   4,   7,   4,   4,   5,\n",
       "           8,   5,   7,   5,   7,   5,   3,   3,  10,   5, 163,  24,   3,\n",
       "           3,   5,   6,   4,   5,  19,   3,   9,   3,   7,   5,   3,   4,\n",
       "           3,   6,   3,   7,   3,   6,   4,   4,  10,  58,   8,   3,   3,\n",
       "          41,   3,   5,   6,   3,   3,   4,   3,   6,   3,   3,  10,   6,\n",
       "           3,   6,   6,   6,   4,   6,   9,   5,   4,   3,   4,   6,   3,\n",
       "           4,   4,   3,   3,   6,   3,   3,   4,   4,   4,  12,   5,   4,\n",
       "           9,   7,   3,   5,  63,   8,   8,   3,  14,   6,   5,   3,   5,\n",
       "           3,   3,   5,   4,  12,  48,  10,  12,   7,   3,  17,   4,   7,\n",
       "           3,   8,  19,   4,   3,   3,   4,   9,   3,  22,  10,   4,   5,\n",
       "           3,  22,   8,   6,  13,   3,   3,   4,   3,   4,   4,   3,   4,\n",
       "           6,   3,   5,   8,   4,   5,   4,   8,   3,   3,   6, 182,  29,\n",
       "           4,  14,   3,   3,   5,   6,   5,   5,   3,   3,   3,   4,   5,\n",
       "           8,   4,   3,   5,   3,   5,   4,   5,  14,   6,  12,   6,   5,\n",
       "           4,  10,   4,   4,   9,  10,   7,  28,   4,   6,   6,   3,   3,\n",
       "          10,   4,   3,   4,  13,   8,   4,   3,   5,   3,   3,   3,   3,\n",
       "          10,   3,   3,   3,   3,   4,   4,  21,  41,  13,   6,   3,   3,\n",
       "           3,   6,   4,   5,  13,   4,   4,   3,   5,  12,  13,   3,   4,\n",
       "          14,  19,   3,  14,   3,  24,   3,   6,   7,  23,   7,   3,   8,\n",
       "           3,   3,   4,  11,   5,   5,  10,   5,   6,   4,   5,   4,   4,\n",
       "           6,   4,   3,   3,   3,   9,   3,   3,   3,   3,   4,   3,   5,\n",
       "           3,   4,  28,   4,   5,   3,  14,   6,   3,   7,   7,   8,   3,\n",
       "           5,   3,   3,   8,   4,   3,   5,   4,  12,   5,   4,   3,  13,\n",
       "          12,  21,   3,   3,  12,   5,   3,  43,   5,   4,   3,   5,   4,\n",
       "          15,   3,   4,   3,   4,   9,   4,   4,   3,   8,   3,   4,   3,\n",
       "           9,   4,   4,   6,   8,   4,   4,   3,  13,   4,   6,   3,   7,\n",
       "          14,   7,  17,   3,   9,  22,  23,   8,   3,   3,   3,   3,   5,\n",
       "          18,   3,   5,  20,   5,   6,  11,  11,  13,   3,   3,   3,  13,\n",
       "           7,   3,   5,  14,   3,   4]], dtype=int64)"
      ]
     },
     "execution_count": 20,
     "metadata": {},
     "output_type": "execute_result"
    }
   ],
   "source": [
    "tdm.sum(axis=0) # 열별 단어 수 "
   ]
  },
  {
   "cell_type": "code",
   "execution_count": 21,
   "id": "e333cbb1",
   "metadata": {},
   "outputs": [
    {
     "data": {
      "text/plain": [
       "matrix([[  5],\n",
       "        [  5],\n",
       "        [ 12],\n",
       "        [  3],\n",
       "        [  6],\n",
       "        [  7],\n",
       "        [  2],\n",
       "        [  7],\n",
       "        [  2],\n",
       "        [  2],\n",
       "        [  1],\n",
       "        [  4],\n",
       "        [  3],\n",
       "        [  1],\n",
       "        [  5],\n",
       "        [  5],\n",
       "        [  6],\n",
       "        [ 10],\n",
       "        [  3],\n",
       "        [229],\n",
       "        [  5],\n",
       "        [  2],\n",
       "        [  5],\n",
       "        [  3],\n",
       "        [  1],\n",
       "        [  2],\n",
       "        [  4],\n",
       "        [  2],\n",
       "        [  7],\n",
       "        [  3],\n",
       "        [  1],\n",
       "        [  0],\n",
       "        [  1],\n",
       "        [  3],\n",
       "        [  4],\n",
       "        [  6],\n",
       "        [  3],\n",
       "        [  6],\n",
       "        [ 11],\n",
       "        [  3],\n",
       "        [  4],\n",
       "        [  3],\n",
       "        [  2],\n",
       "        [  0],\n",
       "        [  0],\n",
       "        [  6],\n",
       "        [  4],\n",
       "        [  3],\n",
       "        [  1],\n",
       "        [  8],\n",
       "        [  5],\n",
       "        [  5],\n",
       "        [  2],\n",
       "        [  2],\n",
       "        [  4],\n",
       "        [  5],\n",
       "        [  5],\n",
       "        [  1],\n",
       "        [  2],\n",
       "        [  4],\n",
       "        [  3],\n",
       "        [  4],\n",
       "        [  0],\n",
       "        [  1],\n",
       "        [  2],\n",
       "        [  3],\n",
       "        [  5],\n",
       "        [  2],\n",
       "        [  6],\n",
       "        [  5],\n",
       "        [  5],\n",
       "        [  3],\n",
       "        [  1],\n",
       "        [  3],\n",
       "        [  2],\n",
       "        [  2],\n",
       "        [  4],\n",
       "        [  3],\n",
       "        [  7],\n",
       "        [  3],\n",
       "        [  5],\n",
       "        [  6],\n",
       "        [  2],\n",
       "        [  4],\n",
       "        [  8],\n",
       "        [  2],\n",
       "        [  4],\n",
       "        [  4],\n",
       "        [  3],\n",
       "        [  0],\n",
       "        [  2],\n",
       "        [  1],\n",
       "        [  1],\n",
       "        [  1],\n",
       "        [  1],\n",
       "        [  5],\n",
       "        [  2],\n",
       "        [  2],\n",
       "        [  3],\n",
       "        [  2],\n",
       "        [  1],\n",
       "        [  1],\n",
       "        [  4],\n",
       "        [  3],\n",
       "        [  3],\n",
       "        [  8],\n",
       "        [  4],\n",
       "        [  5],\n",
       "        [  2],\n",
       "        [  6],\n",
       "        [  3],\n",
       "        [  4],\n",
       "        [  3],\n",
       "        [  2],\n",
       "        [  0],\n",
       "        [  3],\n",
       "        [  2],\n",
       "        [  2],\n",
       "        [  2],\n",
       "        [  2],\n",
       "        [  3],\n",
       "        [  3],\n",
       "        [  1],\n",
       "        [  1],\n",
       "        [  1],\n",
       "        [  3],\n",
       "        [  2],\n",
       "        [  1],\n",
       "        [  2],\n",
       "        [  5],\n",
       "        [  6],\n",
       "        [  3],\n",
       "        [  1],\n",
       "        [  4],\n",
       "        [  4],\n",
       "        [ 65],\n",
       "        [371],\n",
       "        [ 16],\n",
       "        [  3],\n",
       "        [  3],\n",
       "        [  2],\n",
       "        [  2],\n",
       "        [  2],\n",
       "        [  0],\n",
       "        [  5],\n",
       "        [  3],\n",
       "        [  3],\n",
       "        [  2],\n",
       "        [  2],\n",
       "        [ 78],\n",
       "        [  2],\n",
       "        [  4],\n",
       "        [  2],\n",
       "        [  5],\n",
       "        [  0],\n",
       "        [  2],\n",
       "        [  6],\n",
       "        [  2],\n",
       "        [  3],\n",
       "        [  8],\n",
       "        [  8],\n",
       "        [  5],\n",
       "        [  3],\n",
       "        [  3],\n",
       "        [  3],\n",
       "        [  3],\n",
       "        [  5],\n",
       "        [  1],\n",
       "        [  5],\n",
       "        [  3],\n",
       "        [  4],\n",
       "        [  6],\n",
       "        [  2],\n",
       "        [  4],\n",
       "        [  8],\n",
       "        [  4],\n",
       "        [  2],\n",
       "        [ 14],\n",
       "        [  3],\n",
       "        [  6],\n",
       "        [ 10],\n",
       "        [  3],\n",
       "        [  8],\n",
       "        [  3],\n",
       "        [  4],\n",
       "        [  7],\n",
       "        [  2],\n",
       "        [  3],\n",
       "        [  4],\n",
       "        [  6],\n",
       "        [  4],\n",
       "        [ 11],\n",
       "        [ 11],\n",
       "        [  1],\n",
       "        [ 10],\n",
       "        [  3],\n",
       "        [  5],\n",
       "        [  4],\n",
       "        [  5],\n",
       "        [  6],\n",
       "        [  2],\n",
       "        [  5],\n",
       "        [  6],\n",
       "        [  7],\n",
       "        [  4],\n",
       "        [  6],\n",
       "        [  0],\n",
       "        [  1],\n",
       "        [  1],\n",
       "        [  2],\n",
       "        [  3],\n",
       "        [  4],\n",
       "        [  4],\n",
       "        [  2],\n",
       "        [  2],\n",
       "        [  3],\n",
       "        [  2],\n",
       "        [  5],\n",
       "        [  4],\n",
       "        [  1],\n",
       "        [  2],\n",
       "        [  4],\n",
       "        [  1],\n",
       "        [ 22],\n",
       "        [ 14],\n",
       "        [  1],\n",
       "        [  1],\n",
       "        [  7],\n",
       "        [  3],\n",
       "        [  6],\n",
       "        [ 13],\n",
       "        [  3],\n",
       "        [ 12],\n",
       "        [  6],\n",
       "        [  6],\n",
       "        [  4],\n",
       "        [  2],\n",
       "        [  9],\n",
       "        [  3],\n",
       "        [ 10],\n",
       "        [  5],\n",
       "        [  7],\n",
       "        [  2],\n",
       "        [  5],\n",
       "        [  5],\n",
       "        [  3],\n",
       "        [  2],\n",
       "        [  4],\n",
       "        [  4],\n",
       "        [  5],\n",
       "        [  3],\n",
       "        [ 11],\n",
       "        [  2],\n",
       "        [  1],\n",
       "        [  4],\n",
       "        [  1],\n",
       "        [  2],\n",
       "        [  3],\n",
       "        [  6],\n",
       "        [  3],\n",
       "        [  3],\n",
       "        [  4],\n",
       "        [  5],\n",
       "        [  1],\n",
       "        [  5],\n",
       "        [  3],\n",
       "        [  2],\n",
       "        [  4],\n",
       "        [  1],\n",
       "        [  2],\n",
       "        [  7],\n",
       "        [  9],\n",
       "        [  2],\n",
       "        [  4],\n",
       "        [  4],\n",
       "        [  8],\n",
       "        [  2],\n",
       "        [  5],\n",
       "        [  5],\n",
       "        [  2],\n",
       "        [  5],\n",
       "        [  2],\n",
       "        [  3],\n",
       "        [  5],\n",
       "        [ 10],\n",
       "        [  6],\n",
       "        [  8],\n",
       "        [  5],\n",
       "        [  6],\n",
       "        [  3],\n",
       "        [  5],\n",
       "        [  2],\n",
       "        [  6],\n",
       "        [  2],\n",
       "        [  3],\n",
       "        [  0],\n",
       "        [  6],\n",
       "        [  7],\n",
       "        [  3],\n",
       "        [  2],\n",
       "        [  1],\n",
       "        [  2],\n",
       "        [  4],\n",
       "        [  7],\n",
       "        [  4],\n",
       "        [  3],\n",
       "        [  3],\n",
       "        [  5],\n",
       "        [  4],\n",
       "        [  2],\n",
       "        [  4],\n",
       "        [  4],\n",
       "        [  6],\n",
       "        [  2],\n",
       "        [  2],\n",
       "        [  4],\n",
       "        [  2],\n",
       "        [  2],\n",
       "        [  5],\n",
       "        [  4],\n",
       "        [  7],\n",
       "        [  4],\n",
       "        [  2],\n",
       "        [  3],\n",
       "        [  5],\n",
       "        [  4],\n",
       "        [  8],\n",
       "        [  1],\n",
       "        [  3],\n",
       "        [  4],\n",
       "        [  1],\n",
       "        [  3],\n",
       "        [  2],\n",
       "        [  2],\n",
       "        [  6],\n",
       "        [  6],\n",
       "        [  3],\n",
       "        [  3],\n",
       "        [  4],\n",
       "        [  4],\n",
       "        [  2],\n",
       "        [  1],\n",
       "        [  4],\n",
       "        [  8],\n",
       "        [  8],\n",
       "        [  5],\n",
       "        [  8],\n",
       "        [  9],\n",
       "        [  6],\n",
       "        [  6],\n",
       "        [  1],\n",
       "        [  5],\n",
       "        [  3],\n",
       "        [  2],\n",
       "        [  3],\n",
       "        [  8],\n",
       "        [  8],\n",
       "        [  2],\n",
       "        [  4],\n",
       "        [  6],\n",
       "        [  3],\n",
       "        [  5],\n",
       "        [  6],\n",
       "        [  2],\n",
       "        [  1],\n",
       "        [  3],\n",
       "        [  0],\n",
       "        [  3],\n",
       "        [  3],\n",
       "        [  5],\n",
       "        [  3],\n",
       "        [  9],\n",
       "        [  2],\n",
       "        [  5],\n",
       "        [  1],\n",
       "        [  4],\n",
       "        [  3],\n",
       "        [ 10],\n",
       "        [  6],\n",
       "        [  5],\n",
       "        [  4],\n",
       "        [  1],\n",
       "        [  4],\n",
       "        [  6],\n",
       "        [  0],\n",
       "        [  2],\n",
       "        [  3],\n",
       "        [  1],\n",
       "        [  3],\n",
       "        [  3],\n",
       "        [  7],\n",
       "        [  4],\n",
       "        [  1],\n",
       "        [  1],\n",
       "        [  8],\n",
       "        [  3],\n",
       "        [  5],\n",
       "        [  3],\n",
       "        [  6],\n",
       "        [  5],\n",
       "        [  1],\n",
       "        [ 14],\n",
       "        [  5],\n",
       "        [  1],\n",
       "        [  5],\n",
       "        [  3],\n",
       "        [  2],\n",
       "        [  3],\n",
       "        [  4],\n",
       "        [  1],\n",
       "        [  1],\n",
       "        [  2],\n",
       "        [  6],\n",
       "        [  2],\n",
       "        [  9],\n",
       "        [  1],\n",
       "        [  1],\n",
       "        [  1],\n",
       "        [  3],\n",
       "        [  4],\n",
       "        [  5],\n",
       "        [  1],\n",
       "        [ 12],\n",
       "        [ 10],\n",
       "        [  7],\n",
       "        [  6],\n",
       "        [  3],\n",
       "        [  2],\n",
       "        [  2],\n",
       "        [  4],\n",
       "        [  3],\n",
       "        [  3],\n",
       "        [  6],\n",
       "        [  5],\n",
       "        [  4],\n",
       "        [  1],\n",
       "        [  5],\n",
       "        [  8],\n",
       "        [ 11],\n",
       "        [  4],\n",
       "        [  4],\n",
       "        [  2],\n",
       "        [  1],\n",
       "        [  3],\n",
       "        [  5],\n",
       "        [  3],\n",
       "        [  1],\n",
       "        [  5],\n",
       "        [  7],\n",
       "        [  3],\n",
       "        [  6],\n",
       "        [  6],\n",
       "        [  3],\n",
       "        [  3],\n",
       "        [  5],\n",
       "        [  2],\n",
       "        [  2],\n",
       "        [  2],\n",
       "        [  2],\n",
       "        [  6],\n",
       "        [  5],\n",
       "        [  2],\n",
       "        [  2],\n",
       "        [ 11],\n",
       "        [  2],\n",
       "        [  7],\n",
       "        [  6],\n",
       "        [  3],\n",
       "        [  8],\n",
       "        [  1],\n",
       "        [  1],\n",
       "        [  2],\n",
       "        [  2],\n",
       "        [  1],\n",
       "        [ 12],\n",
       "        [  1],\n",
       "        [  5],\n",
       "        [  0],\n",
       "        [  0],\n",
       "        [  0],\n",
       "        [  2],\n",
       "        [  2],\n",
       "        [  3],\n",
       "        [  6],\n",
       "        [  4],\n",
       "        [  4],\n",
       "        [  5],\n",
       "        [  5],\n",
       "        [  3],\n",
       "        [  3],\n",
       "        [  2],\n",
       "        [  5],\n",
       "        [  3],\n",
       "        [  5],\n",
       "        [  1],\n",
       "        [  1],\n",
       "        [  0],\n",
       "        [  2],\n",
       "        [  3],\n",
       "        [  5],\n",
       "        [  2],\n",
       "        [  3],\n",
       "        [  5],\n",
       "        [  1],\n",
       "        [  3],\n",
       "        [  0],\n",
       "        [  2],\n",
       "        [  2],\n",
       "        [  2],\n",
       "        [  4],\n",
       "        [  2],\n",
       "        [  4],\n",
       "        [  3],\n",
       "        [  3],\n",
       "        [  2],\n",
       "        [  3],\n",
       "        [  4],\n",
       "        [  4],\n",
       "        [  2],\n",
       "        [  2],\n",
       "        [  7],\n",
       "        [  1],\n",
       "        [  2],\n",
       "        [  6],\n",
       "        [  5],\n",
       "        [  1],\n",
       "        [  3],\n",
       "        [  3],\n",
       "        [  1],\n",
       "        [  1],\n",
       "        [  2],\n",
       "        [  3],\n",
       "        [  3],\n",
       "        [  2],\n",
       "        [  4],\n",
       "        [  4],\n",
       "        [  5],\n",
       "        [  1],\n",
       "        [  2],\n",
       "        [  5],\n",
       "        [  4],\n",
       "        [  1],\n",
       "        [  4],\n",
       "        [  9],\n",
       "        [  4],\n",
       "        [ 12],\n",
       "        [  3],\n",
       "        [  2],\n",
       "        [  6],\n",
       "        [  4],\n",
       "        [  4],\n",
       "        [  3],\n",
       "        [  2],\n",
       "        [  2],\n",
       "        [  2],\n",
       "        [  4],\n",
       "        [  8],\n",
       "        [  3],\n",
       "        [  6],\n",
       "        [  2],\n",
       "        [  1],\n",
       "        [  2],\n",
       "        [ 12],\n",
       "        [  5],\n",
       "        [  4],\n",
       "        [  4],\n",
       "        [  1],\n",
       "        [  5],\n",
       "        [  1],\n",
       "        [  4],\n",
       "        [  4],\n",
       "        [  1],\n",
       "        [  5],\n",
       "        [  7],\n",
       "        [  7],\n",
       "        [  6],\n",
       "        [  5],\n",
       "        [  2],\n",
       "        [  1],\n",
       "        [  3],\n",
       "        [  5],\n",
       "        [  0],\n",
       "        [  4],\n",
       "        [  3],\n",
       "        [  4],\n",
       "        [  5],\n",
       "        [  2],\n",
       "        [  2],\n",
       "        [  6],\n",
       "        [  3],\n",
       "        [  2],\n",
       "        [  1],\n",
       "        [  1],\n",
       "        [  3],\n",
       "        [  5],\n",
       "        [  6],\n",
       "        [  3],\n",
       "        [  0],\n",
       "        [  1],\n",
       "        [  3],\n",
       "        [  6],\n",
       "        [  9],\n",
       "        [  2],\n",
       "        [  2],\n",
       "        [  4],\n",
       "        [ 12],\n",
       "        [ 13],\n",
       "        [  4],\n",
       "        [  2],\n",
       "        [  3],\n",
       "        [  9],\n",
       "        [  5],\n",
       "        [  2],\n",
       "        [  1],\n",
       "        [  6],\n",
       "        [  8],\n",
       "        [  7],\n",
       "        [  1],\n",
       "        [  0],\n",
       "        [  3],\n",
       "        [  3],\n",
       "        [ 10],\n",
       "        [  5],\n",
       "        [  2],\n",
       "        [  3],\n",
       "        [  2],\n",
       "        [  8],\n",
       "        [  7],\n",
       "        [ 15],\n",
       "        [  7],\n",
       "        [  9],\n",
       "        [  1],\n",
       "        [  7],\n",
       "        [  1],\n",
       "        [  4],\n",
       "        [  5],\n",
       "        [  2],\n",
       "        [  1],\n",
       "        [  7],\n",
       "        [  3],\n",
       "        [  8],\n",
       "        [ 11],\n",
       "        [  3],\n",
       "        [  2],\n",
       "        [  4],\n",
       "        [  8],\n",
       "        [221],\n",
       "        [  8],\n",
       "        [  3],\n",
       "        [  4],\n",
       "        [  3],\n",
       "        [  5],\n",
       "        [  2],\n",
       "        [  3],\n",
       "        [  4],\n",
       "        [  0],\n",
       "        [  4],\n",
       "        [  7],\n",
       "        [  3],\n",
       "        [  2],\n",
       "        [  7],\n",
       "        [  4],\n",
       "        [  6],\n",
       "        [  5],\n",
       "        [  3],\n",
       "        [  8],\n",
       "        [  3],\n",
       "        [  4],\n",
       "        [  4],\n",
       "        [  5],\n",
       "        [  4],\n",
       "        [  6],\n",
       "        [  2],\n",
       "        [  2],\n",
       "        [  5],\n",
       "        [  5],\n",
       "        [  7],\n",
       "        [  6],\n",
       "        [  3],\n",
       "        [  6],\n",
       "        [  5],\n",
       "        [  5],\n",
       "        [  4],\n",
       "        [  5],\n",
       "        [  5],\n",
       "        [  3],\n",
       "        [  5],\n",
       "        [  1],\n",
       "        [  3],\n",
       "        [  7],\n",
       "        [  6],\n",
       "        [  1],\n",
       "        [  6],\n",
       "        [  4],\n",
       "        [  1],\n",
       "        [ 11],\n",
       "        [  3],\n",
       "        [  2],\n",
       "        [  7],\n",
       "        [  5],\n",
       "        [  4],\n",
       "        [  4],\n",
       "        [ 11],\n",
       "        [  3],\n",
       "        [  3],\n",
       "        [  1],\n",
       "        [  1],\n",
       "        [  1],\n",
       "        [  2],\n",
       "        [  6],\n",
       "        [  5],\n",
       "        [  4],\n",
       "        [  4],\n",
       "        [  4],\n",
       "        [  3],\n",
       "        [  6],\n",
       "        [  6],\n",
       "        [  9],\n",
       "        [  3],\n",
       "        [  4],\n",
       "        [  5],\n",
       "        [  4],\n",
       "        [ 10],\n",
       "        [  5],\n",
       "        [  8],\n",
       "        [  2],\n",
       "        [  6],\n",
       "        [  3],\n",
       "        [  6],\n",
       "        [  1],\n",
       "        [  2],\n",
       "        [  4],\n",
       "        [  2],\n",
       "        [  4],\n",
       "        [  1],\n",
       "        [  5],\n",
       "        [  3],\n",
       "        [  2],\n",
       "        [  5],\n",
       "        [  1],\n",
       "        [  2],\n",
       "        [  4],\n",
       "        [  1],\n",
       "        [  4],\n",
       "        [  6],\n",
       "        [  1],\n",
       "        [  1],\n",
       "        [  5]], dtype=int64)"
      ]
     },
     "execution_count": 21,
     "metadata": {},
     "output_type": "execute_result"
    }
   ],
   "source": [
    "tdm.sum(axis=1) # 행별 단어 수 "
   ]
  },
  {
   "cell_type": "code",
   "execution_count": 11,
   "id": "f2ac5215",
   "metadata": {},
   "outputs": [
    {
     "ename": "NameError",
     "evalue": "name 'pd' is not defined",
     "output_type": "error",
     "traceback": [
      "\u001b[1;31m---------------------------------------------------------------------------\u001b[0m",
      "\u001b[1;31mNameError\u001b[0m                                 Traceback (most recent call last)",
      "Input \u001b[1;32mIn [11]\u001b[0m, in \u001b[0;36m<cell line: 1>\u001b[1;34m()\u001b[0m\n\u001b[1;32m----> 1\u001b[0m word_count \u001b[38;5;241m=\u001b[39m \u001b[43mpd\u001b[49m\u001b[38;5;241m.\u001b[39mDataFrame({\n\u001b[0;32m      2\u001b[0m     \u001b[38;5;124m'\u001b[39m\u001b[38;5;124m단어\u001b[39m\u001b[38;5;124m'\u001b[39m: cv\u001b[38;5;241m.\u001b[39mget_feature_names(),\n\u001b[0;32m      3\u001b[0m     \u001b[38;5;124m'\u001b[39m\u001b[38;5;124m빈도\u001b[39m\u001b[38;5;124m'\u001b[39m: tdm\u001b[38;5;241m.\u001b[39msum(axis\u001b[38;5;241m=\u001b[39m\u001b[38;5;241m0\u001b[39m)\u001b[38;5;241m.\u001b[39mflat\n\u001b[0;32m      4\u001b[0m })\n",
      "\u001b[1;31mNameError\u001b[0m: name 'pd' is not defined"
     ]
    }
   ],
   "source": [
    "word_count = pd.DataFrame({\n",
    "    '단어': cv.get_feature_names(),\n",
    "    '빈도': tdm.sum(axis=0).flat\n",
    "})"
   ]
  },
  {
   "cell_type": "code",
   "execution_count": 12,
   "id": "04a538c7",
   "metadata": {},
   "outputs": [
    {
     "ename": "NameError",
     "evalue": "name 'tdm' is not defined",
     "output_type": "error",
     "traceback": [
      "\u001b[1;31m---------------------------------------------------------------------------\u001b[0m",
      "\u001b[1;31mNameError\u001b[0m                                 Traceback (most recent call last)",
      "Input \u001b[1;32mIn [12]\u001b[0m, in \u001b[0;36m<cell line: 1>\u001b[1;34m()\u001b[0m\n\u001b[1;32m----> 1\u001b[0m \u001b[38;5;28mtype\u001b[39m(\u001b[43mtdm\u001b[49m\u001b[38;5;241m.\u001b[39msum(axis\u001b[38;5;241m=\u001b[39m\u001b[38;5;241m0\u001b[39m))\n",
      "\u001b[1;31mNameError\u001b[0m: name 'tdm' is not defined"
     ]
    }
   ],
   "source": [
    "type(tdm.sum(axis=0))"
   ]
  },
  {
   "cell_type": "code",
   "execution_count": 13,
   "id": "2c8f9e81",
   "metadata": {},
   "outputs": [
    {
     "ename": "NameError",
     "evalue": "name 'word_count' is not defined",
     "output_type": "error",
     "traceback": [
      "\u001b[1;31m---------------------------------------------------------------------------\u001b[0m",
      "\u001b[1;31mNameError\u001b[0m                                 Traceback (most recent call last)",
      "Input \u001b[1;32mIn [13]\u001b[0m, in \u001b[0;36m<cell line: 1>\u001b[1;34m()\u001b[0m\n\u001b[1;32m----> 1\u001b[0m \u001b[43mword_count\u001b[49m\n",
      "\u001b[1;31mNameError\u001b[0m: name 'word_count' is not defined"
     ]
    }
   ],
   "source": [
    "word_count"
   ]
  },
  {
   "cell_type": "code",
   "execution_count": 14,
   "id": "2bdb2945",
   "metadata": {},
   "outputs": [
    {
     "ename": "NameError",
     "evalue": "name 'word_count' is not defined",
     "output_type": "error",
     "traceback": [
      "\u001b[1;31m---------------------------------------------------------------------------\u001b[0m",
      "\u001b[1;31mNameError\u001b[0m                                 Traceback (most recent call last)",
      "Input \u001b[1;32mIn [14]\u001b[0m, in \u001b[0;36m<cell line: 1>\u001b[1;34m()\u001b[0m\n\u001b[1;32m----> 1\u001b[0m \u001b[43mword_count\u001b[49m\u001b[38;5;241m.\u001b[39msort_values(\u001b[38;5;124m'\u001b[39m\u001b[38;5;124m빈도\u001b[39m\u001b[38;5;124m'\u001b[39m, ascending\u001b[38;5;241m=\u001b[39m\u001b[38;5;28;01mFalse\u001b[39;00m)\u001b[38;5;241m.\u001b[39mhead()\n",
      "\u001b[1;31mNameError\u001b[0m: name 'word_count' is not defined"
     ]
    }
   ],
   "source": [
    "word_count.sort_values('빈도', ascending=False).head()"
   ]
  },
  {
   "cell_type": "markdown",
   "id": "59a8da23",
   "metadata": {},
   "source": [
    "### 단어 빈도 저장"
   ]
  },
  {
   "cell_type": "code",
   "execution_count": 15,
   "id": "24af63a0",
   "metadata": {},
   "outputs": [
    {
     "ename": "NameError",
     "evalue": "name 'word_count' is not defined",
     "output_type": "error",
     "traceback": [
      "\u001b[1;31m---------------------------------------------------------------------------\u001b[0m",
      "\u001b[1;31mNameError\u001b[0m                                 Traceback (most recent call last)",
      "Input \u001b[1;32mIn [15]\u001b[0m, in \u001b[0;36m<cell line: 1>\u001b[1;34m()\u001b[0m\n\u001b[1;32m----> 1\u001b[0m \u001b[43mword_count\u001b[49m\u001b[38;5;241m.\u001b[39mto_csv(\u001b[38;5;124m'\u001b[39m\u001b[38;5;124mword_count.csv\u001b[39m\u001b[38;5;124m'\u001b[39m)\n",
      "\u001b[1;31mNameError\u001b[0m: name 'word_count' is not defined"
     ]
    }
   ],
   "source": [
    "word_count.to_csv('word_count.csv')"
   ]
  },
  {
   "cell_type": "markdown",
   "id": "d828d420",
   "metadata": {},
   "source": [
    "## 단어 구름(wordcloud)"
   ]
  },
  {
   "cell_type": "markdown",
   "id": "ba5b6f68",
   "metadata": {},
   "source": [
    "### wordcloud 설치"
   ]
  },
  {
   "cell_type": "code",
   "execution_count": null,
   "id": "581656c4",
   "metadata": {},
   "outputs": [],
   "source": [
    "#아나콘다를 이용할 경우:\n",
    "!conda install -y -c conda-forge wordcloud\n",
    "\n",
    "#맥 또는 리눅스에서는 pip 명령어로 설치\n",
    "!pip install wordcloud"
   ]
  },
  {
   "cell_type": "code",
   "execution_count": null,
   "id": "19c905ae",
   "metadata": {},
   "outputs": [],
   "source": [
    "!pip install wordcloud"
   ]
  },
  {
   "cell_type": "markdown",
   "id": "8bf3c2e9",
   "metadata": {},
   "source": [
    "### 데이터 불러오기"
   ]
  },
  {
   "cell_type": "code",
   "execution_count": 28,
   "id": "b2876f3f",
   "metadata": {},
   "outputs": [
    {
     "data": {
      "text/html": [
       "<div>\n",
       "<style scoped>\n",
       "    .dataframe tbody tr th:only-of-type {\n",
       "        vertical-align: middle;\n",
       "    }\n",
       "\n",
       "    .dataframe tbody tr th {\n",
       "        vertical-align: top;\n",
       "    }\n",
       "\n",
       "    .dataframe thead th {\n",
       "        text-align: right;\n",
       "    }\n",
       "</style>\n",
       "<table border=\"1\" class=\"dataframe\">\n",
       "  <thead>\n",
       "    <tr style=\"text-align: right;\">\n",
       "      <th></th>\n",
       "      <th>단어</th>\n",
       "      <th>빈도</th>\n",
       "    </tr>\n",
       "  </thead>\n",
       "  <tbody>\n",
       "    <tr>\n",
       "      <th>0</th>\n",
       "      <td>10</td>\n",
       "      <td>29</td>\n",
       "    </tr>\n",
       "    <tr>\n",
       "      <th>1</th>\n",
       "      <td>20</td>\n",
       "      <td>3</td>\n",
       "    </tr>\n",
       "    <tr>\n",
       "      <th>2</th>\n",
       "      <td>90</td>\n",
       "      <td>6</td>\n",
       "    </tr>\n",
       "    <tr>\n",
       "      <th>3</th>\n",
       "      <td>absolutely</td>\n",
       "      <td>9</td>\n",
       "    </tr>\n",
       "    <tr>\n",
       "      <th>4</th>\n",
       "      <td>acted</td>\n",
       "      <td>3</td>\n",
       "    </tr>\n",
       "  </tbody>\n",
       "</table>\n",
       "</div>"
      ],
      "text/plain": [
       "           단어  빈도\n",
       "0          10  29\n",
       "1          20   3\n",
       "2          90   6\n",
       "3  absolutely   9\n",
       "4       acted   3"
      ]
     },
     "execution_count": 28,
     "metadata": {},
     "output_type": "execute_result"
    }
   ],
   "source": [
    "import pandas as pd\n",
    "\n",
    "word_count = pd.read_csv('word_count.csv', index_col=0)\n",
    "word_count.head()"
   ]
  },
  {
   "cell_type": "markdown",
   "id": "aa4304fb",
   "metadata": {},
   "source": [
    "### 단어 구름"
   ]
  },
  {
   "cell_type": "code",
   "execution_count": 29,
   "id": "07546841",
   "metadata": {},
   "outputs": [],
   "source": [
    "from wordcloud import WordCloud\n",
    "\n",
    "#font_path: 글꼴의 경로\n",
    "#max_words: 워드클라우드를 그릴 단어의 개수\n",
    "#background_color: 배경색 설정\n",
    "#width : 가로크기(픽셀 단위)\n",
    "#height: 세로크기(픽셀 단위)\n",
    "#배경은 흰색, 최대 100단어를 가로 400픽셀, 세로 300픽셀 크기로 단어 구름으로 그린다.\n",
    "wc = WordCloud(background_color='white', max_words=100, width=400, height=300)"
   ]
  },
  {
   "cell_type": "code",
   "execution_count": null,
   "id": "d4afd348",
   "metadata": {},
   "outputs": [],
   "source": []
  }
 ],
 "metadata": {
  "kernelspec": {
   "display_name": "Python 3 (ipykernel)",
   "language": "python",
   "name": "python3"
  },
  "language_info": {
   "codemirror_mode": {
    "name": "ipython",
    "version": 3
   },
   "file_extension": ".py",
   "mimetype": "text/x-python",
   "name": "python",
   "nbconvert_exporter": "python",
   "pygments_lexer": "ipython3",
   "version": "3.9.12"
  },
  "toc": {
   "base_numbering": 1,
   "nav_menu": {},
   "number_sections": true,
   "sideBar": true,
   "skip_h1_title": false,
   "title_cell": "Table of Contents",
   "title_sidebar": "Contents",
   "toc_cell": false,
   "toc_position": {},
   "toc_section_display": true,
   "toc_window_display": false
  }
 },
 "nbformat": 4,
 "nbformat_minor": 5
}
