{
 "cells": [
  {
   "cell_type": "code",
   "execution_count": 1,
   "id": "eb7342bf",
   "metadata": {},
   "outputs": [],
   "source": [
    "import numpy as np\n",
    "import pandas as pd"
   ]
  },
  {
   "cell_type": "markdown",
   "id": "198a61cf",
   "metadata": {},
   "source": [
    "### Fashion mnist dataset\n",
    "* 6만개 학습용 데이터, 1만개 테스트용 데이터(grayscale image array)"
   ]
  },
  {
   "cell_type": "code",
   "execution_count": 2,
   "id": "95b7a830",
   "metadata": {},
   "outputs": [
    {
     "name": "stdout",
     "output_type": "stream",
     "text": [
      "Downloading data from https://storage.googleapis.com/tensorflow/tf-keras-datasets/train-labels-idx1-ubyte.gz\n",
      "29515/29515 [==============================] - 0s 1us/step\n",
      "Downloading data from https://storage.googleapis.com/tensorflow/tf-keras-datasets/train-images-idx3-ubyte.gz\n",
      "26421880/26421880 [==============================] - 14s 1us/step\n",
      "Downloading data from https://storage.googleapis.com/tensorflow/tf-keras-datasets/t10k-labels-idx1-ubyte.gz\n",
      "5148/5148 [==============================] - 0s 0s/step\n",
      "Downloading data from https://storage.googleapis.com/tensorflow/tf-keras-datasets/t10k-images-idx3-ubyte.gz\n",
      "4422102/4422102 [==============================] - 1s 0us/step\n",
      "train dataset shape: (60000, 28, 28) (60000,)\n",
      "test dataset shape: (10000, 28, 28) (10000,)\n"
     ]
    }
   ],
   "source": [
    "from tensorflow.keras.datasets import fashion_mnist, mnist\n",
    "\n",
    "# 데이터가 train_images에 들어감\n",
    "(train_images, train_labels), (test_images, test_labels) = fashion_mnist.load_data()\n",
    "\n",
    "# 28x28 grayscale 2차원 데이터\n",
    "print(\"train dataset shape:\", train_images.shape, train_labels.shape)\n",
    "print(\"test dataset shape:\", test_images.shape, test_labels.shape)"
   ]
  },
  {
   "cell_type": "code",
   "execution_count": 3,
   "id": "0f1f4274",
   "metadata": {},
   "outputs": [
    {
     "data": {
      "text/plain": [
       "Text(0.5, 1.0, '9')"
      ]
     },
     "execution_count": 3,
     "metadata": {},
     "output_type": "execute_result"
    },
    {
     "data": {
      "image/png": "[encoded data removed]",
      "text/plain": [
       "<Figure size 432x288 with 1 Axes>"
      ]
     },
     "metadata": {
      "needs_background": "light"
     },
     "output_type": "display_data"
    }
   ],
   "source": [
    "import matplotlib.pyplot as plt\n",
    "\n",
    "plt.imshow(train_images[0], cmap='gray')\n",
    "plt.title(train_labels[0])"
   ]
  },
  {
   "cell_type": "code",
   "execution_count": 4,
   "id": "f8c0f275",
   "metadata": {},
   "outputs": [
    {
     "data": {
      "text/plain": [
       "(array([[  0,   0,   0,   0,   0,   0,   0,   0,   0,   0,   0,   0,   0,\n",
       "           0,   0,   0,   0,   0,   0,   0,   0,   0,   0,   0,   0,   0,\n",
       "           0,   0],\n",
       "        [  0,   0,   0,   0,   0,   0,   0,   0,   0,   0,   0,   0,   0,\n",
       "           0,   0,   0,   0,   0,   0,   0,   0,   0,   0,   0,   0,   0,\n",
       "           0,   0],\n",
       "        [  0,   0,   0,   0,   0,   0,   0,   0,   0,   0,   0,   0,   0,\n",
       "           0,   0,   0,   0,   0,   0,   0,   0,   0,   0,   0,   0,   0,\n",
       "           0,   0],\n",
       "        [  0,   0,   0,   0,   0,   0,   0,   0,   0,   0,   0,   0,   1,\n",
       "           0,   0,  13,  73,   0,   0,   1,   4,   0,   0,   0,   0,   1,\n",
       "           1,   0],\n",
       "        [  0,   0,   0,   0,   0,   0,   0,   0,   0,   0,   0,   0,   3,\n",
       "           0,  36, 136, 127,  62,  54,   0,   0,   0,   1,   3,   4,   0,\n",
       "           0,   3],\n",
       "        [  0,   0,   0,   0,   0,   0,   0,   0,   0,   0,   0,   0,   6,\n",
       "           0, 102, 204, 176, 134, 144, 123,  23,   0,   0,   0,   0,  12,\n",
       "          10,   0],\n",
       "        [  0,   0,   0,   0,   0,   0,   0,   0,   0,   0,   0,   0,   0,\n",
       "           0, 155, 236, 207, 178, 107, 156, 161, 109,  64,  23,  77, 130,\n",
       "          72,  15],\n",
       "        [  0,   0,   0,   0,   0,   0,   0,   0,   0,   0,   0,   1,   0,\n",
       "          69, 207, 223, 218, 216, 216, 163, 127, 121, 122, 146, 141,  88,\n",
       "         172,  66],\n",
       "        [  0,   0,   0,   0,   0,   0,   0,   0,   0,   1,   1,   1,   0,\n",
       "         200, 232, 232, 233, 229, 223, 223, 215, 213, 164, 127, 123, 196,\n",
       "         229,   0],\n",
       "        [  0,   0,   0,   0,   0,   0,   0,   0,   0,   0,   0,   0,   0,\n",
       "         183, 225, 216, 223, 228, 235, 227, 224, 222, 224, 221, 223, 245,\n",
       "         173,   0],\n",
       "        [  0,   0,   0,   0,   0,   0,   0,   0,   0,   0,   0,   0,   0,\n",
       "         193, 228, 218, 213, 198, 180, 212, 210, 211, 213, 223, 220, 243,\n",
       "         202,   0],\n",
       "        [  0,   0,   0,   0,   0,   0,   0,   0,   0,   1,   3,   0,  12,\n",
       "         219, 220, 212, 218, 192, 169, 227, 208, 218, 224, 212, 226, 197,\n",
       "         209,  52],\n",
       "        [  0,   0,   0,   0,   0,   0,   0,   0,   0,   0,   6,   0,  99,\n",
       "         244, 222, 220, 218, 203, 198, 221, 215, 213, 222, 220, 245, 119,\n",
       "         167,  56],\n",
       "        [  0,   0,   0,   0,   0,   0,   0,   0,   0,   4,   0,   0,  55,\n",
       "         236, 228, 230, 228, 240, 232, 213, 218, 223, 234, 217, 217, 209,\n",
       "          92,   0],\n",
       "        [  0,   0,   1,   4,   6,   7,   2,   0,   0,   0,   0,   0, 237,\n",
       "         226, 217, 223, 222, 219, 222, 221, 216, 223, 229, 215, 218, 255,\n",
       "          77,   0],\n",
       "        [  0,   3,   0,   0,   0,   0,   0,   0,   0,  62, 145, 204, 228,\n",
       "         207, 213, 221, 218, 208, 211, 218, 224, 223, 219, 215, 224, 244,\n",
       "         159,   0],\n",
       "        [  0,   0,   0,   0,  18,  44,  82, 107, 189, 228, 220, 222, 217,\n",
       "         226, 200, 205, 211, 230, 224, 234, 176, 188, 250, 248, 233, 238,\n",
       "         215,   0],\n",
       "        [  0,  57, 187, 208, 224, 221, 224, 208, 204, 214, 208, 209, 200,\n",
       "         159, 245, 193, 206, 223, 255, 255, 221, 234, 221, 211, 220, 232,\n",
       "         246,   0],\n",
       "        [  3, 202, 228, 224, 221, 211, 211, 214, 205, 205, 205, 220, 240,\n",
       "          80, 150, 255, 229, 221, 188, 154, 191, 210, 204, 209, 222, 228,\n",
       "         225,   0],\n",
       "        [ 98, 233, 198, 210, 222, 229, 229, 234, 249, 220, 194, 215, 217,\n",
       "         241,  65,  73, 106, 117, 168, 219, 221, 215, 217, 223, 223, 224,\n",
       "         229,  29],\n",
       "        [ 75, 204, 212, 204, 193, 205, 211, 225, 216, 185, 197, 206, 198,\n",
       "         213, 240, 195, 227, 245, 239, 223, 218, 212, 209, 222, 220, 221,\n",
       "         230,  67],\n",
       "        [ 48, 203, 183, 194, 213, 197, 185, 190, 194, 192, 202, 214, 219,\n",
       "         221, 220, 236, 225, 216, 199, 206, 186, 181, 177, 172, 181, 205,\n",
       "         206, 115],\n",
       "        [  0, 122, 219, 193, 179, 171, 183, 196, 204, 210, 213, 207, 211,\n",
       "         210, 200, 196, 194, 191, 195, 191, 198, 192, 176, 156, 167, 177,\n",
       "         210,  92],\n",
       "        [  0,   0,  74, 189, 212, 191, 175, 172, 175, 181, 185, 188, 189,\n",
       "         188, 193, 198, 204, 209, 210, 210, 211, 188, 188, 194, 192, 216,\n",
       "         170,   0],\n",
       "        [  2,   0,   0,   0,  66, 200, 222, 237, 239, 242, 246, 243, 244,\n",
       "         221, 220, 193, 191, 179, 182, 182, 181, 176, 166, 168,  99,  58,\n",
       "           0,   0],\n",
       "        [  0,   0,   0,   0,   0,   0,   0,  40,  61,  44,  72,  41,  35,\n",
       "           0,   0,   0,   0,   0,   0,   0,   0,   0,   0,   0,   0,   0,\n",
       "           0,   0],\n",
       "        [  0,   0,   0,   0,   0,   0,   0,   0,   0,   0,   0,   0,   0,\n",
       "           0,   0,   0,   0,   0,   0,   0,   0,   0,   0,   0,   0,   0,\n",
       "           0,   0],\n",
       "        [  0,   0,   0,   0,   0,   0,   0,   0,   0,   0,   0,   0,   0,\n",
       "           0,   0,   0,   0,   0,   0,   0,   0,   0,   0,   0,   0,   0,\n",
       "           0,   0]], dtype=uint8),\n",
       " 9)"
      ]
     },
     "execution_count": 4,
     "metadata": {},
     "output_type": "execute_result"
    }
   ],
   "source": [
    "train_images[0, :, :], train_labels[0] # images[0, :, :] 픽셀 하나 하나 찍어라 "
   ]
  },
  {
   "cell_type": "code",
   "execution_count": 7,
   "id": "f3b29b5e",
   "metadata": {},
   "outputs": [
    {
     "data": {
      "image/png": "[encoded data removed]",
      "text/plain": [
       "<Figure size 1584x432 with 8 Axes>"
      ]
     },
     "metadata": {
      "needs_background": "light"
     },
     "output_type": "display_data"
    },
    {
     "data": {
      "image/png": "[encoded data removed]",
      "text/plain": [
       "<Figure size 1584x432 with 8 Axes>"
      ]
     },
     "metadata": {
      "needs_background": "light"
     },
     "output_type": "display_data"
    }
   ],
   "source": [
    "class_names = ['T-shirt/top', 'Trouser', 'Pulover', 'Dress', 'Coat','Sandal', \\\n",
    "              'Shirt', 'Sneaker', 'Bag', 'Ankle boot']\n",
    "\n",
    "def show_images(images,labels, ncols=8):\n",
    "    figure, axs = plt.subplots(figsize=(22, 6), nrows=1, ncols=ncols)\n",
    "    for i in range(ncols):\n",
    "        axs[i].imshow(images[i], cmap='gray')\n",
    "        axs[i].set_title(class_names[labels[i]])\n",
    "\n",
    "show_images(train_images[:8], train_labels[:8], ncols=8)\n",
    "show_images(train_images[8:16], train_labels[8:16], ncols=8)"
   ]
  },
  {
   "cell_type": "markdown",
   "id": "56100a19",
   "metadata": {},
   "source": [
    "### 1.1 Dense Layer를 기반으로 모델을 생성"
   ]
  },
  {
   "cell_type": "markdown",
   "id": "5118129b",
   "metadata": {},
   "source": [
    "<img src=\"./images/a.JPG\">"
   ]
  },
  {
   "cell_type": "code",
   "execution_count": 19,
   "id": "5e6818b5",
   "metadata": {},
   "outputs": [
    {
     "name": "stdout",
     "output_type": "stream",
     "text": [
      "Model: \"sequential_1\"\n",
      "_________________________________________________________________\n",
      " Layer (type)                Output Shape              Param #   \n",
      "=================================================================\n",
      " flatten_1 (Flatten)         (None, 784)               0         \n",
      "                                                                 \n",
      " dense_3 (Dense)             (None, 100)               78500     \n",
      "                                                                 \n",
      " dense_4 (Dense)             (None, 30)                3030      \n",
      "                                                                 \n",
      " dense_5 (Dense)             (None, 10)                310       \n",
      "                                                                 \n",
      "=================================================================\n",
      "Total params: 81,840\n",
      "Trainable params: 81,840\n",
      "Non-trainable params: 0\n",
      "_________________________________________________________________\n"
     ]
    }
   ],
   "source": [
    "# 소프트맥스 다중분류, 확률값으로 예측\n",
    "\n",
    "from tensorflow.keras.layers import Dense, Flatten\n",
    "from tensorflow.keras.models import Sequential\n",
    "\n",
    "INPUT_SIZE = 28\n",
    "\n",
    "model = Sequential([\n",
    "    Flatten(input_shape=(INPUT_SIZE, INPUT_SIZE)),  #Flatten 1차원 넘기는 역할\n",
    "    Dense(100, activation='relu'),\n",
    "    Dense(30, activation='relu'),\n",
    "    Dense(10, activation='softmax')\n",
    "])\n",
    "\n",
    "model.summary()\n",
    "\n",
    "# (None,  개수, 데이터 뭐가 올지 모름"
   ]
  },
  {
   "cell_type": "markdown",
   "id": "22a1cac1",
   "metadata": {},
   "source": [
    "### 1.2 모델 학습"
   ]
  },
  {
   "cell_type": "code",
   "execution_count": 25,
   "id": "29cfbe1f",
   "metadata": {},
   "outputs": [],
   "source": [
    "from tensorflow.keras.optimizers import Adam\n",
    "from tensorflow.keras.losses import CategoricalCrossentropy\n",
    "from tensorflow.keras.metrics import Accuracy\n",
    "\n",
    "model.compile(optimizer=Adam(0.001), loss='categorical_crossentropy', metrics=['accuracy']) # 다중분류"
   ]
  },
  {
   "cell_type": "code",
   "execution_count": 26,
   "id": "809b8c65",
   "metadata": {},
   "outputs": [
    {
     "name": "stdout",
     "output_type": "stream",
     "text": [
      "(60000, 10) (10000, 10)\n"
     ]
    }
   ],
   "source": [
    "from tensorflow.keras.utils import to_categorical\n",
    "\n",
    "train_oh_labels = to_categorical(train_labels)\n",
    "test_oh_labels = to_categorical(test_labels)   # y값도 원핫인코딩으로 처리\n",
    "\n",
    "print(train_oh_labels.shape, test_oh_labels.shape)"
   ]
  },
  {
   "cell_type": "code",
   "execution_count": 27,
   "id": "d3dfe702",
   "metadata": {},
   "outputs": [
    {
     "data": {
      "text/plain": [
       "(60000, 28, 28)"
      ]
     },
     "execution_count": 27,
     "metadata": {},
     "output_type": "execute_result"
    }
   ],
   "source": [
    "train_images.shape"
   ]
  },
  {
   "cell_type": "code",
   "execution_count": 28,
   "id": "3c089eb5",
   "metadata": {},
   "outputs": [
    {
     "name": "stdout",
     "output_type": "stream",
     "text": [
      "Epoch 1/20\n",
      "1875/1875 [==============================] - 3s 1ms/step - loss: 2.2008 - accuracy: 0.3634\n",
      "Epoch 2/20\n",
      "1875/1875 [==============================] - 2s 1ms/step - loss: 1.2520 - accuracy: 0.5123\n",
      "Epoch 3/20\n",
      "1875/1875 [==============================] - 2s 1ms/step - loss: 0.8773 - accuracy: 0.6642\n",
      "Epoch 4/20\n",
      "1875/1875 [==============================] - 2s 1ms/step - loss: 0.7284 - accuracy: 0.7089\n",
      "Epoch 5/20\n",
      "1875/1875 [==============================] - 2s 1ms/step - loss: 0.6181 - accuracy: 0.7489\n",
      "Epoch 6/20\n",
      "1875/1875 [==============================] - 2s 1ms/step - loss: 0.5565 - accuracy: 0.7835\n",
      "Epoch 7/20\n",
      "1875/1875 [==============================] - 2s 1ms/step - loss: 0.5052 - accuracy: 0.8117\n",
      "Epoch 8/20\n",
      "1875/1875 [==============================] - 2s 1ms/step - loss: 0.4795 - accuracy: 0.8209\n",
      "Epoch 9/20\n",
      "1875/1875 [==============================] - 2s 1ms/step - loss: 0.4560 - accuracy: 0.8251\n",
      "Epoch 10/20\n",
      "1875/1875 [==============================] - 2s 1ms/step - loss: 0.4591 - accuracy: 0.8273\n",
      "Epoch 11/20\n",
      "1875/1875 [==============================] - 2s 1ms/step - loss: 0.4409 - accuracy: 0.8319\n",
      "Epoch 12/20\n",
      "1875/1875 [==============================] - 2s 1ms/step - loss: 0.4316 - accuracy: 0.8394\n",
      "Epoch 13/20\n",
      "1875/1875 [==============================] - 2s 1ms/step - loss: 0.4017 - accuracy: 0.8615\n",
      "Epoch 14/20\n",
      "1875/1875 [==============================] - 2s 1ms/step - loss: 0.3924 - accuracy: 0.8637\n",
      "Epoch 15/20\n",
      "1875/1875 [==============================] - 2s 1ms/step - loss: 0.3776 - accuracy: 0.8682\n",
      "Epoch 16/20\n",
      "1875/1875 [==============================] - 2s 1ms/step - loss: 0.3710 - accuracy: 0.8726\n",
      "Epoch 17/20\n",
      "1875/1875 [==============================] - 2s 1ms/step - loss: 0.3621 - accuracy: 0.8746\n",
      "Epoch 18/20\n",
      "1875/1875 [==============================] - 2s 1ms/step - loss: 0.3590 - accuracy: 0.8767\n",
      "Epoch 19/20\n",
      "1875/1875 [==============================] - 2s 1ms/step - loss: 0.3486 - accuracy: 0.8802\n",
      "Epoch 20/20\n",
      "1875/1875 [==============================] - 2s 1ms/step - loss: 0.3397 - accuracy: 0.8821\n"
     ]
    }
   ],
   "source": [
    "# vervose = 0 : 수행 내용 출력 안함, 1: 자세히 출력함, 2: 축약된 정보 출력함\n",
    "history = model.fit(x=train_images, y=train_oh_labels, batch_size=32, epochs=20, verbose=1)"
   ]
  },
  {
   "cell_type": "code",
   "execution_count": 29,
   "id": "46b463e3",
   "metadata": {},
   "outputs": [
    {
     "data": {
      "text/plain": [
       "{'loss': [2.2007763385772705,\n",
       "  1.252017617225647,\n",
       "  0.8773297071456909,\n",
       "  0.7283778786659241,\n",
       "  0.6181082725524902,\n",
       "  0.5565474033355713,\n",
       "  0.505216121673584,\n",
       "  0.4794514775276184,\n",
       "  0.4559575617313385,\n",
       "  0.45913222432136536,\n",
       "  0.4409404695034027,\n",
       "  0.4316483736038208,\n",
       "  0.4016641676425934,\n",
       "  0.3924245536327362,\n",
       "  0.37760546803474426,\n",
       "  0.37097474932670593,\n",
       "  0.36210665106773376,\n",
       "  0.35902416706085205,\n",
       "  0.34859657287597656,\n",
       "  0.33966562151908875],\n",
       " 'accuracy': [0.36340001225471497,\n",
       "  0.5122500061988831,\n",
       "  0.6641666889190674,\n",
       "  0.7089499831199646,\n",
       "  0.7488999962806702,\n",
       "  0.7835333347320557,\n",
       "  0.8116666674613953,\n",
       "  0.820900022983551,\n",
       "  0.825083315372467,\n",
       "  0.8272833228111267,\n",
       "  0.831933319568634,\n",
       "  0.8393999934196472,\n",
       "  0.861549973487854,\n",
       "  0.8636666536331177,\n",
       "  0.8682000041007996,\n",
       "  0.8726333379745483,\n",
       "  0.8746166825294495,\n",
       "  0.8766666650772095,\n",
       "  0.880216658115387,\n",
       "  0.8821333050727844]}"
      ]
     },
     "execution_count": 29,
     "metadata": {},
     "output_type": "execute_result"
    }
   ],
   "source": [
    "history.history"
   ]
  },
  {
   "cell_type": "code",
   "execution_count": 32,
   "id": "fb1ba8df",
   "metadata": {},
   "outputs": [
    {
     "name": "stdout",
     "output_type": "stream",
     "text": [
      "[2.2007763385772705, 1.252017617225647, 0.8773297071456909, 0.7283778786659241, 0.6181082725524902, 0.5565474033355713, 0.505216121673584, 0.4794514775276184, 0.4559575617313385, 0.45913222432136536, 0.4409404695034027, 0.4316483736038208, 0.4016641676425934, 0.3924245536327362, 0.37760546803474426, 0.37097474932670593, 0.36210665106773376, 0.35902416706085205, 0.34859657287597656, 0.33966562151908875]\n",
      "\n",
      "\n",
      "[0.36340001225471497, 0.5122500061988831, 0.6641666889190674, 0.7089499831199646, 0.7488999962806702, 0.7835333347320557, 0.8116666674613953, 0.820900022983551, 0.825083315372467, 0.8272833228111267, 0.831933319568634, 0.8393999934196472, 0.861549973487854, 0.8636666536331177, 0.8682000041007996, 0.8726333379745483, 0.8746166825294495, 0.8766666650772095, 0.880216658115387, 0.8821333050727844]\n"
     ]
    }
   ],
   "source": [
    "print(history.history['loss'])\n",
    "print('\\n')\n",
    "print(history.history['accuracy'])"
   ]
  },
  {
   "cell_type": "markdown",
   "id": "464fd598",
   "metadata": {},
   "source": [
    "### 1.3 예측"
   ]
  },
  {
   "cell_type": "code",
   "execution_count": 33,
   "id": "57c2528d",
   "metadata": {},
   "outputs": [
    {
     "data": {
      "text/plain": [
       "(10000, 28, 28)"
      ]
     },
     "execution_count": 33,
     "metadata": {},
     "output_type": "execute_result"
    }
   ],
   "source": [
    "test_images.shape"
   ]
  },
  {
   "cell_type": "code",
   "execution_count": 34,
   "id": "74e30af2",
   "metadata": {},
   "outputs": [
    {
     "name": "stdout",
     "output_type": "stream",
     "text": [
      "313/313 [==============================] - 0s 721us/step\n",
      "(10000, 10)\n"
     ]
    }
   ],
   "source": [
    "# 테스트 image 10000개 , 결과가 10차원-> 모델 선언이 softmax 라서\n",
    "\n",
    "pred_proba = model.predict(test_images)\n",
    "print(pred_proba.shape)"
   ]
  },
  {
   "cell_type": "code",
   "execution_count": 35,
   "id": "6a9e5ab4",
   "metadata": {},
   "outputs": [
    {
     "data": {
      "text/plain": [
       "array([3.3055648e-11, 2.0799121e-15, 4.8203857e-19, 4.4675149e-16,\n",
       "       6.3779463e-17, 4.3750030e-04, 1.0462149e-18, 8.1560202e-03,\n",
       "       1.4215312e-05, 9.9139225e-01], dtype=float32)"
      ]
     },
     "execution_count": 35,
     "metadata": {},
     "output_type": "execute_result"
    }
   ],
   "source": [
    "pred_proba[0]  # 확률 가장 큰 애가 9.9139225e-01"
   ]
  },
  {
   "cell_type": "code",
   "execution_count": 36,
   "id": "be19157c",
   "metadata": {},
   "outputs": [
    {
     "data": {
      "text/plain": [
       "1.0"
      ]
     },
     "execution_count": 36,
     "metadata": {},
     "output_type": "execute_result"
    }
   ],
   "source": [
    "pred_proba[0].sum()"
   ]
  },
  {
   "cell_type": "code",
   "execution_count": 37,
   "id": "c2d72610",
   "metadata": {},
   "outputs": [
    {
     "data": {
      "text/plain": [
       "9"
      ]
     },
     "execution_count": 37,
     "metadata": {},
     "output_type": "execute_result"
    }
   ],
   "source": [
    "pred_proba[0].argmax() # 제일 큰값이 뭐냐"
   ]
  },
  {
   "cell_type": "code",
   "execution_count": 38,
   "id": "b33a6e91",
   "metadata": {},
   "outputs": [
    {
     "name": "stdout",
     "output_type": "stream",
     "text": [
      "1/1 [==============================] - 0s 315ms/step\n"
     ]
    }
   ],
   "source": [
    "#predict 입력값으로 2차원을 넣으면 오류 날 수 있음, 3차원으로 만들어 주는게 좋음\n",
    "\n",
    "pred_proba = model.predict(test_images[0]) # 1차원, 안정화 될때까지 3차원을 넣어줘라"
   ]
  },
  {
   "cell_type": "code",
   "execution_count": 39,
   "id": "474c9de2",
   "metadata": {},
   "outputs": [
    {
     "data": {
      "text/plain": [
       "(28, 28)"
      ]
     },
     "execution_count": 39,
     "metadata": {},
     "output_type": "execute_result"
    }
   ],
   "source": [
    "test_images[0].shape"
   ]
  },
  {
   "cell_type": "code",
   "execution_count": 40,
   "id": "6449d3d8",
   "metadata": {},
   "outputs": [
    {
     "data": {
      "text/plain": [
       "(1, 28, 28)"
      ]
     },
     "execution_count": 40,
     "metadata": {},
     "output_type": "execute_result"
    }
   ],
   "source": [
    "np.expand_dims(test_images[0], axis=0).shape # 하나가 늘어남, 2차원이 3차원으로 나옴"
   ]
  },
  {
   "cell_type": "code",
   "execution_count": 41,
   "id": "e193eb83",
   "metadata": {},
   "outputs": [
    {
     "name": "stdout",
     "output_type": "stream",
     "text": [
      "1/1 [==============================] - 0s 23ms/step\n",
      "sofomax output: [[3.3055777e-11 2.0799121e-15 4.8203857e-19 4.4675323e-16 6.3779702e-17\n",
      "  4.3750030e-04 1.0462190e-18 8.1560202e-03 1.4215365e-05 9.9139225e-01]]\n"
     ]
    }
   ],
   "source": [
    "pred_proba = model.predict(np.expand_dims(test_images[0], axis=0)) # 차원을 늘려서 넣어주는게 좋다\n",
    "print('sofomax output:', pred_proba) \n",
    "\n",
    "# 리턴값 2개값 나옴, 어쩔 수 없음 여기서 그렇게 만들어주니깐 그래서 우리가 처리해야함"
   ]
  },
  {
   "cell_type": "code",
   "execution_count": 42,
   "id": "764cae6f",
   "metadata": {},
   "outputs": [
    {
     "data": {
      "text/plain": [
       "array([3.3055777e-11, 2.0799121e-15, 4.8203857e-19, 4.4675323e-16,\n",
       "       6.3779702e-17, 4.3750030e-04, 1.0462190e-18, 8.1560202e-03,\n",
       "       1.4215365e-05, 9.9139225e-01], dtype=float32)"
      ]
     },
     "execution_count": 42,
     "metadata": {},
     "output_type": "execute_result"
    }
   ],
   "source": [
    "np.squeeze(pred_proba) # 스키쥐로 꽉 자서 필요없는 차원을 날려버림"
   ]
  },
  {
   "cell_type": "code",
   "execution_count": 43,
   "id": "8acd6200",
   "metadata": {},
   "outputs": [
    {
     "data": {
      "text/plain": [
       "10"
      ]
     },
     "execution_count": 43,
     "metadata": {},
     "output_type": "execute_result"
    }
   ],
   "source": [
    "len(pred_proba[0])"
   ]
  },
  {
   "cell_type": "code",
   "execution_count": 44,
   "id": "bf9b9710",
   "metadata": {},
   "outputs": [
    {
     "data": {
      "text/plain": [
       "array([3.3055777e-11, 2.0799121e-15, 4.8203857e-19, 4.4675323e-16,\n",
       "       6.3779702e-17, 4.3750030e-04, 1.0462190e-18, 8.1560202e-03,\n",
       "       1.4215365e-05, 9.9139225e-01], dtype=float32)"
      ]
     },
     "execution_count": 44,
     "metadata": {},
     "output_type": "execute_result"
    }
   ],
   "source": [
    "(pred_proba[0]) # 6만개 중에 첫번째"
   ]
  },
  {
   "cell_type": "code",
   "execution_count": 45,
   "id": "c87e009e",
   "metadata": {},
   "outputs": [
    {
     "name": "stdout",
     "output_type": "stream",
     "text": [
      "157/157 [==============================] - 0s 939us/step - loss: 0.4583 - accuracy: 0.8575\n"
     ]
    },
    {
     "data": {
      "text/plain": [
       "[0.4583319425582886, 0.8575000166893005]"
      ]
     },
     "execution_count": 45,
     "metadata": {},
     "output_type": "execute_result"
    }
   ],
   "source": [
    "model.evaluate(test_images, test_oh_labels, batch_size=64)"
   ]
  },
  {
   "cell_type": "markdown",
   "id": "2dccc282",
   "metadata": {},
   "source": [
    "### 1.4 검증 데이터 세트를 이용한 학습 수행"
   ]
  },
  {
   "cell_type": "code",
   "execution_count": 46,
   "id": "6ec72db7",
   "metadata": {},
   "outputs": [],
   "source": [
    "# 숫자값이 너무커서 0,1로 줄여줌 트레이닝이 수월해짐\n",
    "\n",
    "import numpy as np\n",
    "import pandas as pd\n",
    "from tensorflow.keras.datasets import fashion_mnist\n",
    "\n",
    "(train_images, train_labels), (test_images, test_labels) = fashion_mnist.load_data()"
   ]
  },
  {
   "cell_type": "code",
   "execution_count": 49,
   "id": "4109c3ec",
   "metadata": {},
   "outputs": [
    {
     "data": {
      "text/plain": [
       "array([[  0,   0,   0,   0,   0,   0,   0,   0,   0,   0,   0,   0,   0,\n",
       "          0,   0,   0,   0,   0,   0,   0,   0,   0,   0,   0,   0,   0,\n",
       "          0,   0],\n",
       "       [  0,   0,   0,   0,   0,   0,   0,   0,   0,   0,   0,   0,   0,\n",
       "          0,   0,   0,   0,   0,   0,   0,   0,   0,   0,   0,   0,   0,\n",
       "          0,   0],\n",
       "       [  0,   0,   0,   0,   0,   0,   0,   0,   0,   0,   0,   0,   0,\n",
       "          0,   0,   0,   0,   0,   0,   0,   0,   0,   0,   0,   0,   0,\n",
       "          0,   0],\n",
       "       [  0,   0,   0,   0,   0,   0,   0,   0,   0,   0,   0,   0,   0,\n",
       "          0,   0,   0,   0,   0,   0,   0,   0,   0,   0,   0,   0,   0,\n",
       "          0,   0],\n",
       "       [  0,   0,   0,   0,   0,   0,   0,   0,   0,   0,   0,   0,   0,\n",
       "          0,   0,   0,   0,   0,   0,   0,   0,   0,   0,   0,   0,   0,\n",
       "          0,   0],\n",
       "       [  0,   0,   0,   0,   0,   0,   0,   0,   0,   0,   0,   0,   0,\n",
       "          0,   0,   0,   0,   0,   0,   0,   0,   0,   0,   0,   0,   0,\n",
       "          0,   0],\n",
       "       [  0,   0,   0,   0,   0,   0,   0,   0,   0,   0,   0,   0,   0,\n",
       "          0,   0,   0,   0,   0,   0,   0,   0,   0,   0,   0,   0,   0,\n",
       "          0,   0],\n",
       "       [  0,   0,   0,   0,   0,   0,   0,   0,   0,   0,   0,   0,   0,\n",
       "          0,   0,   0,   0,   0,   0,   0,   0,   0,   0,   0,   0,   0,\n",
       "          0,   0],\n",
       "       [  0,   0,   0,   0,   0,   0,   0,   0,   0,   0,   0,   0,   0,\n",
       "          0,   0,   0,   0,   0,   0,   0,   0,   0,   0,   0,   0,   0,\n",
       "          0,   0],\n",
       "       [  0,   0,   0,   0,   0,   0,   0,   0,   0,   0,   0,   0,   0,\n",
       "          0,   0,   0,   0,   0,   0,   0,   0,   0,   0,   0,   0,   0,\n",
       "          0,   0],\n",
       "       [  0,   0,   0,   0,   0,   0,   0,   0,   0,   0,   0,   0,   0,\n",
       "          0,   0,   0,   0,   0,   0,   0,   0,   0,   0,   0,   0,   0,\n",
       "          0,   0],\n",
       "       [  0,   0,   0,   0,   0,   0,   0,   0,  48,  88,  54,  25,  19,\n",
       "          0,   0,   0,   0,   1,   0,   0,   0,   0,   0,   0,   0,   0,\n",
       "          0,   0],\n",
       "       [  4,   1,   1,   1,   0,   0, 206, 204, 106, 163, 178, 157, 163,\n",
       "        171, 119,  39,   0,   0,   2,   1,   1,   1,   1,   1,   1,   1,\n",
       "          0,   0],\n",
       "       [  0,   0,   0,   0,   0,  84, 204,   0,   0,   0,   1,  57,  91,\n",
       "         77,  99, 138,  94,   7,   0,   0,   0,   0,   0,   0,   0,   0,\n",
       "          1,   3],\n",
       "       [ 51,  43,  27,  27,  28, 254,  31,   0,   4,   0,   0,   0,  16,\n",
       "        121,  84,  19,  63, 110,  31,   0,   0,   0,   0,   0,   0,   0,\n",
       "          0,   0],\n",
       "       [137, 202, 133, 108,  97, 146,  71,  78,  82,  86,  85, 105, 118,\n",
       "        139, 143, 126, 162, 176, 135,  69,  76,  71,  91,  99, 103,  94,\n",
       "         99,  54],\n",
       "       [  0, 110, 186, 205, 203, 193, 191, 178, 204, 172, 175, 175, 177,\n",
       "        183, 189, 190, 197, 196, 192, 182, 186, 185, 184, 182, 178, 168,\n",
       "        159,  77],\n",
       "       [  0,   0,   0,   4,  51,  69,  92, 108, 112, 115, 112, 111, 112,\n",
       "         90,  77,  62,  44,  36,  32,  35,  27,  25,  19,  14,   5,   0,\n",
       "          0,   0],\n",
       "       [  0,   0,   0,   0,   0,   0,   0,   0,   0,   0,   0,   0,   0,\n",
       "          0,   0,   0,   0,   0,   0,   0,   0,   0,   0,   0,   0,   0,\n",
       "          0,   0],\n",
       "       [  0,   0,   0,   0,   0,   0,   0,   0,   0,   0,   0,   0,   0,\n",
       "          0,   0,   0,   0,   0,   0,   0,   0,   0,   0,   0,   0,   0,\n",
       "          0,   0],\n",
       "       [  0,   0,   0,   0,   0,   0,   0,   0,   0,   0,   0,   0,   0,\n",
       "          0,   0,   0,   0,   0,   0,   0,   0,   0,   0,   0,   0,   0,\n",
       "          0,   0],\n",
       "       [  0,   0,   0,   0,   0,   0,   0,   0,   0,   0,   0,   0,   0,\n",
       "          0,   0,   0,   0,   0,   0,   0,   0,   0,   0,   0,   0,   0,\n",
       "          0,   0],\n",
       "       [  0,   0,   0,   0,   0,   0,   0,   0,   0,   0,   0,   0,   0,\n",
       "          0,   0,   0,   0,   0,   0,   0,   0,   0,   0,   0,   0,   0,\n",
       "          0,   0],\n",
       "       [  0,   0,   0,   0,   0,   0,   0,   0,   0,   0,   0,   0,   0,\n",
       "          0,   0,   0,   0,   0,   0,   0,   0,   0,   0,   0,   0,   0,\n",
       "          0,   0],\n",
       "       [  0,   0,   0,   0,   0,   0,   0,   0,   0,   0,   0,   0,   0,\n",
       "          0,   0,   0,   0,   0,   0,   0,   0,   0,   0,   0,   0,   0,\n",
       "          0,   0],\n",
       "       [  0,   0,   0,   0,   0,   0,   0,   0,   0,   0,   0,   0,   0,\n",
       "          0,   0,   0,   0,   0,   0,   0,   0,   0,   0,   0,   0,   0,\n",
       "          0,   0],\n",
       "       [  0,   0,   0,   0,   0,   0,   0,   0,   0,   0,   0,   0,   0,\n",
       "          0,   0,   0,   0,   0,   0,   0,   0,   0,   0,   0,   0,   0,\n",
       "          0,   0],\n",
       "       [  0,   0,   0,   0,   0,   0,   0,   0,   0,   0,   0,   0,   0,\n",
       "          0,   0,   0,   0,   0,   0,   0,   0,   0,   0,   0,   0,   0,\n",
       "          0,   0]], dtype=uint8)"
      ]
     },
     "execution_count": 49,
     "metadata": {},
     "output_type": "execute_result"
    }
   ],
   "source": [
    "train_images[30]"
   ]
  },
  {
   "cell_type": "code",
   "execution_count": 51,
   "id": "df92e424",
   "metadata": {},
   "outputs": [],
   "source": [
    "def get_preprocessed_data(images, labels):\n",
    "    images = np.array(images/255.0, dtype=np.float32)\n",
    "    labels = np.array(labels, dtype=np.float32)\n",
    "    \n",
    "    return images, labels\n",
    "\n",
    "train_images, train_labels = get_preprocessed_data(train_images, train_labels)\n",
    "test_images, test_labels = get_preprocessed_data(test_images, test_labels)"
   ]
  },
  {
   "cell_type": "code",
   "execution_count": 52,
   "id": "198ad4d7",
   "metadata": {},
   "outputs": [
    {
     "name": "stdout",
     "output_type": "stream",
     "text": [
      "train과 validation shape: (51000, 28, 28) (51000,) (9000, 28, 28) (9000,)\n",
      "after OHE: (51000, 10) (9000, 10)\n"
     ]
    }
   ],
   "source": [
    "from sklearn.model_selection import train_test_split\n",
    "from tensorflow.keras.utils import to_categorical\n",
    "tr_images, val_images, tr_labels, val_labels = train_test_split(train_images, train_labels, \\\n",
    "                                                                test_size=0.15, random_state=2021)\n",
    "print('train과 validation shape:', tr_images.shape, tr_labels.shape, val_images.shape, \\\n",
    "                              val_labels.shape)\n",
    "tr_oh_labels = to_categorical(tr_labels)\n",
    "val_oh_labels = to_categorical(val_labels)\n",
    "print('after OHE:', tr_oh_labels.shape, val_oh_labels.shape)"
   ]
  },
  {
   "cell_type": "code",
   "execution_count": 53,
   "id": "e70ba67a",
   "metadata": {},
   "outputs": [],
   "source": [
    "from tensorflow.keras.layers import Dense, Flatten\n",
    "from tensorflow.keras.models import Sequential\n",
    "from tensorflow.keras.optimizers import Adam\n",
    "INPUT_SIZE = 28\n",
    "model = Sequential([\n",
    "    Flatten(input_shape=(INPUT_SIZE, INPUT_SIZE)),\n",
    "    Dense(100, activation='relu'),\n",
    "    Dense(30, activation='relu'),\n",
    "    Dense(10, activation='softmax')\n",
    "])\n",
    "model.compile(optimizer=Adam(0.001), loss='categorical_crossentropy', metrics=['accuracy'])"
   ]
  },
  {
   "cell_type": "code",
   "execution_count": 54,
   "id": "ff5c87f5",
   "metadata": {},
   "outputs": [
    {
     "name": "stdout",
     "output_type": "stream",
     "text": [
      "Epoch 1/20\n",
      "399/399 [==============================] - 1s 2ms/step - loss: 1.4884 - accuracy: 0.4946 - val_loss: 0.9788 - val_accuracy: 0.6381\n",
      "Epoch 2/20\n",
      "399/399 [==============================] - 1s 2ms/step - loss: 0.8328 - accuracy: 0.6983 - val_loss: 0.7546 - val_accuracy: 0.7276\n",
      "Epoch 3/20\n",
      "399/399 [==============================] - 1s 2ms/step - loss: 0.6898 - accuracy: 0.7481 - val_loss: 0.6650 - val_accuracy: 0.7607\n",
      "Epoch 4/20\n",
      "399/399 [==============================] - 1s 2ms/step - loss: 0.6228 - accuracy: 0.7739 - val_loss: 0.6174 - val_accuracy: 0.7692\n",
      "Epoch 5/20\n",
      "399/399 [==============================] - 1s 2ms/step - loss: 0.5864 - accuracy: 0.7871 - val_loss: 0.5903 - val_accuracy: 0.7803\n",
      "Epoch 6/20\n",
      "399/399 [==============================] - 1s 2ms/step - loss: 0.5627 - accuracy: 0.7972 - val_loss: 0.5665 - val_accuracy: 0.7997\n",
      "Epoch 7/20\n",
      "399/399 [==============================] - 1s 2ms/step - loss: 0.5421 - accuracy: 0.8056 - val_loss: 0.5480 - val_accuracy: 0.8026\n",
      "Epoch 8/20\n",
      "399/399 [==============================] - 1s 2ms/step - loss: 0.5265 - accuracy: 0.8136 - val_loss: 0.5335 - val_accuracy: 0.8118\n",
      "Epoch 9/20\n",
      "399/399 [==============================] - 1s 2ms/step - loss: 0.5132 - accuracy: 0.8177 - val_loss: 0.5277 - val_accuracy: 0.8144\n",
      "Epoch 10/20\n",
      "399/399 [==============================] - 1s 2ms/step - loss: 0.5024 - accuracy: 0.8214 - val_loss: 0.5145 - val_accuracy: 0.8178\n",
      "Epoch 11/20\n",
      "399/399 [==============================] - 1s 2ms/step - loss: 0.4929 - accuracy: 0.8265 - val_loss: 0.5050 - val_accuracy: 0.8208\n",
      "Epoch 12/20\n",
      "399/399 [==============================] - 1s 2ms/step - loss: 0.4838 - accuracy: 0.8299 - val_loss: 0.4992 - val_accuracy: 0.8241\n",
      "Epoch 13/20\n",
      "399/399 [==============================] - 1s 2ms/step - loss: 0.4768 - accuracy: 0.8333 - val_loss: 0.4924 - val_accuracy: 0.8267\n",
      "Epoch 14/20\n",
      "399/399 [==============================] - 1s 2ms/step - loss: 0.4692 - accuracy: 0.8371 - val_loss: 0.4847 - val_accuracy: 0.8302\n",
      "Epoch 15/20\n",
      "399/399 [==============================] - 1s 2ms/step - loss: 0.4627 - accuracy: 0.8386 - val_loss: 0.4790 - val_accuracy: 0.8339\n",
      "Epoch 16/20\n",
      "399/399 [==============================] - 1s 2ms/step - loss: 0.4557 - accuracy: 0.8408 - val_loss: 0.4701 - val_accuracy: 0.8348\n",
      "Epoch 17/20\n",
      "399/399 [==============================] - 1s 2ms/step - loss: 0.4498 - accuracy: 0.8435 - val_loss: 0.4683 - val_accuracy: 0.8360\n",
      "Epoch 18/20\n",
      "399/399 [==============================] - 1s 2ms/step - loss: 0.4448 - accuracy: 0.8437 - val_loss: 0.4644 - val_accuracy: 0.8360\n",
      "Epoch 19/20\n",
      "399/399 [==============================] - 1s 2ms/step - loss: 0.4394 - accuracy: 0.8461 - val_loss: 0.4570 - val_accuracy: 0.8410\n",
      "Epoch 20/20\n",
      "399/399 [==============================] - 1s 2ms/step - loss: 0.4342 - accuracy: 0.8478 - val_loss: 0.4513 - val_accuracy: 0.8396\n"
     ]
    }
   ],
   "source": [
    "history = model.fit(x=tr_images, y=tr_oh_labels, batch_size=128, \\\n",
    "                   validation_data=(val_images, val_oh_labels), epochs=20, verbose=1)"
   ]
  },
  {
   "cell_type": "code",
   "execution_count": 55,
   "id": "ed6333c2",
   "metadata": {},
   "outputs": [
    {
     "name": "stdout",
     "output_type": "stream",
     "text": [
      "Epoch 1/20\n",
      "399/399 [==============================] - 1s 2ms/step - loss: 0.4298 - accuracy: 0.8495 - val_loss: 0.4493 - val_accuracy: 0.8424\n",
      "Epoch 2/20\n",
      "399/399 [==============================] - 1s 2ms/step - loss: 0.4256 - accuracy: 0.8508 - val_loss: 0.4462 - val_accuracy: 0.8444\n",
      "Epoch 3/20\n",
      "399/399 [==============================] - 1s 2ms/step - loss: 0.4217 - accuracy: 0.8526 - val_loss: 0.4462 - val_accuracy: 0.8432\n",
      "Epoch 4/20\n",
      "399/399 [==============================] - 1s 2ms/step - loss: 0.4171 - accuracy: 0.8528 - val_loss: 0.4387 - val_accuracy: 0.8452\n",
      "Epoch 5/20\n",
      "399/399 [==============================] - 1s 2ms/step - loss: 0.4136 - accuracy: 0.8554 - val_loss: 0.4394 - val_accuracy: 0.8439\n",
      "Epoch 6/20\n",
      "399/399 [==============================] - 1s 2ms/step - loss: 0.4099 - accuracy: 0.8556 - val_loss: 0.4338 - val_accuracy: 0.8478\n",
      "Epoch 7/20\n",
      "399/399 [==============================] - 1s 2ms/step - loss: 0.4065 - accuracy: 0.8562 - val_loss: 0.4283 - val_accuracy: 0.8479\n",
      "Epoch 8/20\n",
      "399/399 [==============================] - 1s 2ms/step - loss: 0.4042 - accuracy: 0.8571 - val_loss: 0.4308 - val_accuracy: 0.8494\n",
      "Epoch 9/20\n",
      "399/399 [==============================] - 1s 2ms/step - loss: 0.4003 - accuracy: 0.8589 - val_loss: 0.4237 - val_accuracy: 0.8501\n",
      "Epoch 10/20\n",
      "399/399 [==============================] - 1s 2ms/step - loss: 0.3968 - accuracy: 0.8597 - val_loss: 0.4253 - val_accuracy: 0.8480\n",
      "Epoch 11/20\n",
      "399/399 [==============================] - 1s 2ms/step - loss: 0.3943 - accuracy: 0.8604 - val_loss: 0.4224 - val_accuracy: 0.8497\n",
      "Epoch 12/20\n",
      "399/399 [==============================] - 1s 2ms/step - loss: 0.3918 - accuracy: 0.8607 - val_loss: 0.4246 - val_accuracy: 0.8482\n",
      "Epoch 13/20\n",
      "399/399 [==============================] - 1s 2ms/step - loss: 0.3891 - accuracy: 0.8608 - val_loss: 0.4170 - val_accuracy: 0.8514\n",
      "Epoch 14/20\n",
      "399/399 [==============================] - 1s 2ms/step - loss: 0.3867 - accuracy: 0.8613 - val_loss: 0.4177 - val_accuracy: 0.8524\n",
      "Epoch 15/20\n",
      "399/399 [==============================] - 1s 2ms/step - loss: 0.3834 - accuracy: 0.8631 - val_loss: 0.4118 - val_accuracy: 0.8524\n",
      "Epoch 16/20\n",
      "399/399 [==============================] - 1s 2ms/step - loss: 0.3812 - accuracy: 0.8648 - val_loss: 0.4118 - val_accuracy: 0.8547\n",
      "Epoch 17/20\n",
      "399/399 [==============================] - 1s 2ms/step - loss: 0.3794 - accuracy: 0.8648 - val_loss: 0.4129 - val_accuracy: 0.8536\n",
      "Epoch 18/20\n",
      "399/399 [==============================] - 1s 2ms/step - loss: 0.3762 - accuracy: 0.8648 - val_loss: 0.4119 - val_accuracy: 0.8549\n",
      "Epoch 19/20\n",
      "399/399 [==============================] - 1s 2ms/step - loss: 0.3743 - accuracy: 0.8660 - val_loss: 0.4052 - val_accuracy: 0.8559\n",
      "Epoch 20/20\n",
      "399/399 [==============================] - 1s 2ms/step - loss: 0.3720 - accuracy: 0.8672 - val_loss: 0.4037 - val_accuracy: 0.8584\n"
     ]
    }
   ],
   "source": [
    "history = model.fit(x=tr_images, y=tr_oh_labels, batch_size=128, \\\n",
    "                    validation_data=(val_images, val_oh_labels), epochs=20, verbose=1)"
   ]
  },
  {
   "cell_type": "code",
   "execution_count": 56,
   "id": "bee33d3f",
   "metadata": {},
   "outputs": [
    {
     "data": {
      "image/png": "[encoded data removed]",
      "text/plain": [
       "<Figure size 432x288 with 1 Axes>"
      ]
     },
     "metadata": {
      "needs_background": "light"
     },
     "output_type": "display_data"
    }
   ],
   "source": [
    "import matplotlib.pyplot as plt\n",
    "%matplotlib inline\n",
    "def show_history(history):\n",
    "    plt.plot(history.history['accuracy'], label='train')\n",
    "    plt.plot(history.history['val_accuracy'], label='valid')\n",
    "    plt.legend()\n",
    "show_history(history)"
   ]
  },
  {
   "cell_type": "code",
   "execution_count": 57,
   "id": "e19c223f",
   "metadata": {},
   "outputs": [
    {
     "name": "stdout",
     "output_type": "stream",
     "text": [
      "40/40 [==============================] - 0s 1ms/step - loss: 0.4248 - accuracy: 0.8477\n"
     ]
    },
    {
     "data": {
      "text/plain": [
       "[0.42475491762161255, 0.8476999998092651]"
      ]
     },
     "execution_count": 57,
     "metadata": {},
     "output_type": "execute_result"
    }
   ],
   "source": [
    "model.evaluate(test_images, test_oh_labels, batch_size=256, verbose=1)"
   ]
  },
  {
   "cell_type": "code",
   "execution_count": null,
   "id": "73e92399",
   "metadata": {},
   "outputs": [],
   "source": []
  }
 ],
 "metadata": {
  "kernelspec": {
   "display_name": "Python 3 (ipykernel)",
   "language": "python",
   "name": "python3"
  },
  "language_info": {
   "codemirror_mode": {
    "name": "ipython",
    "version": 3
   },
   "file_extension": ".py",
   "mimetype": "text/x-python",
   "name": "python",
   "nbconvert_exporter": "python",
   "pygments_lexer": "ipython3",
   "version": "3.9.12"
  }
 },
 "nbformat": 4,
 "nbformat_minor": 5
}
