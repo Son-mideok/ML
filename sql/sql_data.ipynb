{
 "cells": [
  {
   "cell_type": "code",
   "execution_count": 4,
   "metadata": {},
   "outputs": [],
   "source": [
    "\"\"\"\n",
    "Created on Mon Oct 17 10:29:30 2022\n",
    "\n",
    "@author: SBA13\n",
    "\"\"\"\n",
    "\n",
    "import pymysql\n",
    "\n",
    "# 전역변수 선언부\n",
    "conn, cur = None, None\n",
    "data1, data2, data3, data4 = \"\",\"\",\"\",\"\"\n",
    "sql = \"\"\n",
    "\n",
    "# 메인 코드\n",
    "conn = pymysql.connect(host='localhost', user='root', password='1111', db='shoppingDB', \\\n",
    "    charset='utf8')\n",
    "\n",
    "\n",
    "cur = conn.cursor()\n",
    "\n",
    "cur.execute(\"INSERT INTO userTable VALUES('john', 'john Bann', 'john@naver.com', 1990)\")\n",
    "cur.execute(\"INSERT INTO userTable VALUES('kim', 'kim mike', 'kim@naver.com', 1980)\")\n",
    "cur.execute(\"INSERT INTO userTable VALUES('park', 'park minseo', 'park@naver.com', 2000)\")\n",
    "\n",
    "conn.commit()\n",
    "conn.close()\n"
   ]
  },
  {
   "cell_type": "code",
   "execution_count": null,
   "metadata": {},
   "outputs": [],
   "source": []
  }
 ],
 "metadata": {
  "kernelspec": {
   "display_name": "Python 3.10.4 ('study')",
   "language": "python",
   "name": "python3"
  },
  "language_info": {
   "codemirror_mode": {
    "name": "ipython",
    "version": 3
   },
   "file_extension": ".py",
   "mimetype": "text/x-python",
   "name": "python",
   "nbconvert_exporter": "python",
   "pygments_lexer": "ipython3",
   "version": "3.10.4"
  },
  "orig_nbformat": 4,
  "vscode": {
   "interpreter": {
    "hash": "cdb3408ddd590d3368dab592099dfbb7bb79f8272c754c134a9f1c06d64a117d"
   }
  }
 },
 "nbformat": 4,
 "nbformat_minor": 2
}
