{
 "cells": [
  {
   "cell_type": "markdown",
   "id": "f73a76d5",
   "metadata": {},
   "source": [
    "## 로지스틱 회귀 실습"
   ]
  },
  {
   "cell_type": "code",
   "execution_count": 2,
   "id": "c71509e3",
   "metadata": {},
   "outputs": [],
   "source": [
    "import pandas as pd\n",
    "import matplotlib.pyplot as plt\n",
    "%matplotlib inline\n",
    "\n",
    "from sklearn.datasets import load_breast_cancer\n",
    "from sklearn.linear_model import LogisticRegression\n",
    "\n",
    "cancer = load_breast_cancer()"
   ]
  },
  {
   "cell_type": "code",
   "execution_count": 3,
   "id": "2f8ed61e",
   "metadata": {},
   "outputs": [],
   "source": [
    "from sklearn.preprocessing import StandardScaler\n",
    "from sklearn.model_selection import train_test_split\n",
    "\n",
    "scaler = StandardScaler()\n",
    "data_scaled = scaler.fit_transform(cancer.data)\n",
    "\n",
    "X_train, X_test, y_train, y_test = train_test_split(data_scaled, cancer.target,\\\n",
    "                                                   test_size=0.3, random_state=0)"
   ]
  },
  {
   "cell_type": "code",
   "execution_count": 4,
   "id": "e93e1a27",
   "metadata": {},
   "outputs": [
    {
     "name": "stdout",
     "output_type": "stream",
     "text": [
      "accuracy: 0.977\n",
      "roc_auc: 0.972\n",
      "solvedr:lbfgs, accuracy:0.977, roc_auc:0.972\n",
      "solvedr:liblinear, accuracy:0.982, roc_auc:0.979\n",
      "solvedr:newton-cg, accuracy:0.977, roc_auc:0.972\n",
      "solvedr:sag, accuracy:0.982, roc_auc:0.979\n",
      "solvedr:saga, accuracy:0.982, roc_auc:0.979\n"
     ]
    }
   ],
   "source": [
    "from sklearn.metrics import accuracy_score, roc_auc_score\n",
    "\n",
    "# 로지스틱 회귀를 이용하여 학습 및 예측 수행.\n",
    "\n",
    "lr_clf = LogisticRegression()\n",
    "lr_clf.fit(X_train, y_train) # 데이터 넣어서 모델이 되는것, x-test 문제집 , y-test 답지\n",
    "lr_preds = lr_clf.predict(X_test)\n",
    "\n",
    "# accuracy와 roc_auc 측정\n",
    "print('accuracy: {:0.3f}'.format(accuracy_score(y_test, lr_preds)))\n",
    "print('roc_auc: {:0.3f}'.format(roc_auc_score(y_test , lr_preds)))\n",
    "solvers = ['lbfgs', 'liblinear', 'newton-cg', 'sag', 'saga']\n",
    "\n",
    "# 여러개의 solver값 별로 LogisticRegression 학습 후 성능 평가\n",
    "\n",
    "for solver in solvers:\n",
    "    lr_clf = LogisticRegression(solver=solver, max_iter=600) # 반복하는 알고리즘\n",
    "    lr_clf.fit(X_train, y_train)\n",
    "    lr_preds = lr_clf.predict(X_test)\n",
    "    print('solvedr:{0}, accuracy:{1:.3f}, roc_auc:{2:.3f}'.format(solver,\n",
    "                                                                 accuracy_score(y_test, lr_preds),\n",
    "                                                                 roc_auc_score(y_test, lr_preds)))\n",
    "\n",
    "# liblinear 설정하니 더 잘나오더라\n",
    "\n",
    "# 교차검증 1. k폴드 회귀, y값 기준으로 섞는게 의미없음,x값기준으로 폴딩나눔, 문제는 y가 인밸런스(우리가 바라보는 값이 트레이닝시점에 편향적으로 트레이닝 됐다)\n",
    "# 교차검증 2. 스테레트 파이폴드 :분류면  나눠서 자르기"
   ]
  },
  {
   "cell_type": "code",
   "execution_count": 5,
   "id": "82ffee42",
   "metadata": {},
   "outputs": [
    {
     "name": "stdout",
     "output_type": "stream",
     "text": [
      "최적 하이퍼 파라미터:{'C': 0.1, 'penalty': 'l2', 'solver': 'liblinear'}, 최적 평균 정확도:0.979\n"
     ]
    },
    {
     "name": "stderr",
     "output_type": "stream",
     "text": [
      "C:\\Users\\virtue\\anaconda3\\envs\\myenv\\lib\\site-packages\\sklearn\\model_selection\\_validation.py:372: FitFailedWarning: \n",
      "18 fits failed out of a total of 72.\n",
      "The score on these train-test partitions for these parameters will be set to nan.\n",
      "If these failures are not expected, you can try to debug them by setting error_score='raise'.\n",
      "\n",
      "Below are more details about the failures:\n",
      "--------------------------------------------------------------------------------\n",
      "18 fits failed with the following error:\n",
      "Traceback (most recent call last):\n",
      "  File \"C:\\Users\\virtue\\anaconda3\\envs\\myenv\\lib\\site-packages\\sklearn\\model_selection\\_validation.py\", line 680, in _fit_and_score\n",
      "    estimator.fit(X_train, y_train, **fit_params)\n",
      "  File \"C:\\Users\\virtue\\anaconda3\\envs\\myenv\\lib\\site-packages\\sklearn\\linear_model\\_logistic.py\", line 1461, in fit\n",
      "    solver = _check_solver(self.solver, self.penalty, self.dual)\n",
      "  File \"C:\\Users\\virtue\\anaconda3\\envs\\myenv\\lib\\site-packages\\sklearn\\linear_model\\_logistic.py\", line 449, in _check_solver\n",
      "    % (solver, penalty)\n",
      "ValueError: Solver lbfgs supports only 'l2' or 'none' penalties, got l1 penalty.\n",
      "\n",
      "  warnings.warn(some_fits_failed_message, FitFailedWarning)\n",
      "C:\\Users\\virtue\\anaconda3\\envs\\myenv\\lib\\site-packages\\sklearn\\model_selection\\_search.py:972: UserWarning: One or more of the test scores are non-finite: [0.96485659 0.94555834 0.92261209        nan 0.97891024 0.97364708\n",
      " 0.96131997        nan 0.97539218 0.97539218 0.96660169        nan\n",
      " 0.97539218 0.97539218 0.96309292        nan 0.97011974 0.97011974\n",
      " 0.96662025        nan 0.96661097 0.96661097 0.96134781        nan]\n",
      "  category=UserWarning,\n"
     ]
    }
   ],
   "source": [
    "from sklearn.model_selection import GridSearchCV # CV로 교차검증하고 튜닝하는 명령어\n",
    "params={'solver':['liblinear', 'lbfgs'],\n",
    "       'penalty':['l2', 'l1'],\n",
    "       'C':[0.01, 0.1, 1, 1.1, 5, 10]} # 규제강도를 변경해가면서 하이퍼 파리미터 집어높고 로지스틱 돌려보자\n",
    "\n",
    "grid_clf = GridSearchCV(lr_clf, param_grid=params, scoring='accuracy', cv=3)  #cv=3: 하나 모델에 쪼개서 3번을 넣겠다\n",
    "grid_clf.fit(data_scaled, cancer.target)\n",
    "print('최적 하이퍼 파라미터:{0}, 최적 평균 정확도:{1:.3f}'.format(grid_clf.best_params_,\n",
    "                                                 grid_clf.best_score_))"
   ]
  },
  {
   "cell_type": "markdown",
   "id": "3b48e593",
   "metadata": {},
   "source": [
    "### 회귀트리 실습"
   ]
  },
  {
   "cell_type": "code",
   "execution_count": 6,
   "id": "75ac5a53",
   "metadata": {},
   "outputs": [
    {
     "name": "stderr",
     "output_type": "stream",
     "text": [
      "C:\\Users\\virtue\\anaconda3\\envs\\myenv\\lib\\site-packages\\sklearn\\utils\\deprecation.py:87: FutureWarning: Function load_boston is deprecated; `load_boston` is deprecated in 1.0 and will be removed in 1.2.\n",
      "\n",
      "    The Boston housing prices dataset has an ethical problem. You can refer to\n",
      "    the documentation of this function for further details.\n",
      "\n",
      "    The scikit-learn maintainers therefore strongly discourage the use of this\n",
      "    dataset unless the purpose of the code is to study and educate about\n",
      "    ethical issues in data science and machine learning.\n",
      "\n",
      "    In this special case, you can fetch the dataset from the original\n",
      "    source::\n",
      "\n",
      "        import pandas as pd\n",
      "        import numpy as np\n",
      "\n",
      "\n",
      "        data_url = \"http://lib.stat.cmu.edu/datasets/boston\"\n",
      "        raw_df = pd.read_csv(data_url, sep=\"\\s+\", skiprows=22, header=None)\n",
      "        data = np.hstack([raw_df.values[::2, :], raw_df.values[1::2, :2]])\n",
      "        target = raw_df.values[1::2, 2]\n",
      "\n",
      "    Alternative datasets include the California housing dataset (i.e.\n",
      "    :func:`~sklearn.datasets.fetch_california_housing`) and the Ames housing\n",
      "    dataset. You can load the datasets as follows::\n",
      "\n",
      "        from sklearn.datasets import fetch_california_housing\n",
      "        housing = fetch_california_housing()\n",
      "\n",
      "    for the California housing dataset and::\n",
      "\n",
      "        from sklearn.datasets import fetch_openml\n",
      "        housing = fetch_openml(name=\"house_prices\", as_frame=True)\n",
      "\n",
      "    for the Ames housing dataset.\n",
      "    \n",
      "  warnings.warn(msg, category=FutureWarning)\n"
     ]
    }
   ],
   "source": [
    "from sklearn.datasets import load_boston\n",
    "from sklearn.model_selection import cross_val_score\n",
    "from sklearn.ensemble import RandomForestRegressor\n",
    "import pandas as pd\n",
    "import numpy as np\n",
    "\n",
    "# 보스턴 데이터 세트 로드\n",
    "boston = load_boston()\n",
    "bostonDF = pd.DataFrame(boston.data, columns = boston.feature_names)\n",
    "\n",
    "bostonDF['PRICE'] = boston.target\n",
    "y_target = bostonDF['PRICE']\n",
    "X_data = bostonDF.drop(['PRICE'], axis=1, inplace=False)"
   ]
  },
  {
   "cell_type": "code",
   "execution_count": 7,
   "id": "79cbb35d",
   "metadata": {},
   "outputs": [
    {
     "name": "stdout",
     "output_type": "stream",
     "text": [
      " 5 교차 검증의 개별 Negative MSE scores:  [ -7.88 -13.14 -20.57 -46.23 -18.88]\n",
      " 5 교차 검증의 개별 RMSE scores :  [2.81 3.63 4.54 6.8  4.34]\n",
      " 5 교차 검증의 개별 RMSE : 4.423 \n"
     ]
    }
   ],
   "source": [
    "rf = RandomForestRegressor(random_state=0, n_estimators=1000) \n",
    "neg_mse_scores = cross_val_score(rf, X_data, y_target, scoring=\"neg_mean_squared_error\", cv = 5)\n",
    "rmse_scores = np.sqrt(-1 * neg_mse_scores)\n",
    "avg_rmse = np.mean(rmse_scores)\n",
    "\n",
    "print(' 5 교차 검증의 개별 Negative MSE scores: ', np.round(neg_mse_scores, 2))\n",
    "print(' 5 교차 검증의 개별 RMSE scores : ', np.round(rmse_scores,2))\n",
    "print(' 5 교차 검증의 개별 RMSE : {0:.3f} '.format(avg_rmse))"
   ]
  },
  {
   "cell_type": "code",
   "execution_count": 8,
   "id": "1b201f7a",
   "metadata": {},
   "outputs": [],
   "source": [
    "def get_model_cv_prediction(model, X_data, y_target):\n",
    "    neg_mse_scores = cross_val_score(model, X_data, y_target, scoring=\"neg_mean_squared_error\",cv = 5)\n",
    "    rmse_scores = np.sqrt(-1 * neg_mse_scores)\n",
    "    avg_rmse = np.mean(rmse_scores)\n",
    "    print('####', model.__class__.__name__, '####') #모델명 표현\n",
    "    print(' 5 교차 검증의 평균 RMSE : {:.3f} ' .format(avg_rmse))"
   ]
  },
  {
   "cell_type": "code",
   "execution_count": 9,
   "id": "11373bc1",
   "metadata": {},
   "outputs": [
    {
     "name": "stdout",
     "output_type": "stream",
     "text": [
      "Requirement already satisfied: xgboost in c:\\users\\virtue\\anaconda3\\envs\\myenv\\lib\\site-packages (1.6.2)\n",
      "Requirement already satisfied: numpy in c:\\users\\virtue\\anaconda3\\envs\\myenv\\lib\\site-packages (from xgboost) (1.21.6)\n",
      "Requirement already satisfied: scipy in c:\\users\\virtue\\anaconda3\\envs\\myenv\\lib\\site-packages (from xgboost) (1.7.3)\n",
      "Requirement already satisfied: lightgbm in c:\\users\\virtue\\anaconda3\\envs\\myenv\\lib\\site-packages (3.3.3)\n",
      "Requirement already satisfied: scipy in c:\\users\\virtue\\anaconda3\\envs\\myenv\\lib\\site-packages (from lightgbm) (1.7.3)\n",
      "Requirement already satisfied: scikit-learn!=0.22.0 in c:\\users\\virtue\\anaconda3\\envs\\myenv\\lib\\site-packages (from lightgbm) (1.0.2)\n",
      "Requirement already satisfied: numpy in c:\\users\\virtue\\anaconda3\\envs\\myenv\\lib\\site-packages (from lightgbm) (1.21.6)\n",
      "Requirement already satisfied: wheel in c:\\users\\virtue\\anaconda3\\envs\\myenv\\lib\\site-packages (from lightgbm) (0.37.1)\n",
      "Requirement already satisfied: joblib>=0.11 in c:\\users\\virtue\\anaconda3\\envs\\myenv\\lib\\site-packages (from scikit-learn!=0.22.0->lightgbm) (1.2.0)\n",
      "Requirement already satisfied: threadpoolctl>=2.0.0 in c:\\users\\virtue\\anaconda3\\envs\\myenv\\lib\\site-packages (from scikit-learn!=0.22.0->lightgbm) (3.1.0)\n"
     ]
    }
   ],
   "source": [
    "!pip install xgboost\n",
    "!pip install lightgbm\n",
    "from sklearn.tree import DecisionTreeRegressor\n",
    "from sklearn.ensemble import GradientBoostingRegressor\n",
    "from xgboost import XGBRegressor\n",
    "from lightgbm import LGBMRegressor\n",
    "\n",
    "# 예측성능 파악"
   ]
  },
  {
   "cell_type": "code",
   "execution_count": 10,
   "id": "85261228",
   "metadata": {},
   "outputs": [],
   "source": [
    "dt_reg = DecisionTreeRegressor(random_state=0, max_depth=4)\n",
    "rf_reg = RandomForestRegressor(random_state=0, n_estimators=1000) # 이안에서 디시젼트리 알고리즘이 1000개가 있다\n",
    "gb_reg = GradientBoostingRegressor(random_state=0, n_estimators=1000)\n",
    "xgb_reg = XGBRegressor(n_estimators=1000)\n",
    "lgb_reg = LGBMRegressor(n_estimators=1000)"
   ]
  },
  {
   "cell_type": "code",
   "execution_count": 11,
   "id": "62240073",
   "metadata": {},
   "outputs": [
    {
     "name": "stdout",
     "output_type": "stream",
     "text": [
      "#### DecisionTreeRegressor ####\n",
      " 5 교차 검증의 평균 RMSE : 5.978 \n",
      "#### RandomForestRegressor ####\n",
      " 5 교차 검증의 평균 RMSE : 4.423 \n",
      "#### GradientBoostingRegressor ####\n",
      " 5 교차 검증의 평균 RMSE : 4.269 \n",
      "#### XGBRegressor ####\n",
      " 5 교차 검증의 평균 RMSE : 4.251 \n",
      "#### LGBMRegressor ####\n",
      " 5 교차 검증의 평균 RMSE : 4.646 \n"
     ]
    }
   ],
   "source": [
    "# 모델별 교차검증 다 함\n",
    "\n",
    "models = [dt_reg, rf_reg, gb_reg, xgb_reg, lgb_reg]\n",
    "for model in models:\n",
    "    get_model_cv_prediction(model, X_data, y_target)"
   ]
  },
  {
   "cell_type": "code",
   "execution_count": 12,
   "id": "0b90b9a8",
   "metadata": {},
   "outputs": [
    {
     "data": {
      "text/plain": [
       "<matplotlib.axes._subplots.AxesSubplot at 0x1d50ae75808>"
      ]
     },
     "execution_count": 12,
     "metadata": {},
     "output_type": "execute_result"
    },
    {
     "data": {
      "image/png": "[encoded data removed]",
      "text/plain": [
       "<Figure size 640x480 with 1 Axes>"
      ]
     },
     "metadata": {},
     "output_type": "display_data"
    }
   ],
   "source": [
    "import seaborn as sns\n",
    "%matplotlib inline\n",
    "\n",
    "rf_reg = RandomForestRegressor(n_estimators=1000)\n",
    "# 앞 예제에서 만들어진 X_data, y_target 데이터 셋을 적용하여 학습합니다.\n",
    "rf_reg.fit(X_data, y_target)\n",
    "feature_series = pd.Series(data=rf_reg.feature_importances_, index=X_data.columns )\n",
    "feature_series = feature_series.sort_values(ascending=False)\n",
    "sns.barplot(x= feature_series, y=feature_series.index)"
   ]
  },
  {
   "cell_type": "code",
   "execution_count": 16,
   "id": "ff2b8730",
   "metadata": {},
   "outputs": [
    {
     "name": "stdout",
     "output_type": "stream",
     "text": [
      "(100, 2)\n"
     ]
    },
    {
     "data": {
      "text/plain": [
       "<matplotlib.collections.PathCollection at 0x1d50af3d7c8>"
      ]
     },
     "execution_count": 16,
     "metadata": {},
     "output_type": "execute_result"
    },
    {
     "data": {
      "image/png": "[encoded data removed]",
      "text/plain": [
       "<Figure size 640x480 with 1 Axes>"
      ]
     },
     "metadata": {},
     "output_type": "display_data"
    }
   ],
   "source": [
    "import matplotlib.pyplot as plt\n",
    "\n",
    "bostonDF_sample = bostonDF[['RM','PRICE']]\n",
    "bostonDF_sample = bostonDF_sample.sample(n=100, random_state=0)\n",
    "print(bostonDF_sample.shape)\n",
    "plt.figure()\n",
    "plt.scatter(bostonDF_sample.RM, bostonDF_sample.PRICE,c=\"darkorange\")"
   ]
  },
  {
   "cell_type": "code",
   "execution_count": 22,
   "id": "1ef126c2",
   "metadata": {},
   "outputs": [],
   "source": [
    "import numpy as np\n",
    "from sklearn.linear_model import LinearRegression\n",
    "\n",
    "lr_reg = LinearRegression()\n",
    "rf_reg2 = DecisionTreeRegressor(max_depth=2)\n",
    "rf_reg7 = DecisionTreeRegressor(max_depth=7)\n",
    "\n",
    "X_test = np.arange(4.5, 8.5, 0.04).reshape(-1, 1)\n",
    "\n",
    "X_feature = bostonDF_sample['RM'].values.reshape(-1,1)\n",
    "y_target = bostonDF_sample['PRICE'].values.reshape(-1,1)"
   ]
  },
  {
   "cell_type": "code",
   "execution_count": 23,
   "id": "98e2356b",
   "metadata": {},
   "outputs": [
    {
     "data": {
      "text/plain": [
       "array([[4.5 ],\n",
       "       [4.54],\n",
       "       [4.58],\n",
       "       [4.62],\n",
       "       [4.66],\n",
       "       [4.7 ],\n",
       "       [4.74],\n",
       "       [4.78],\n",
       "       [4.82],\n",
       "       [4.86],\n",
       "       [4.9 ],\n",
       "       [4.94],\n",
       "       [4.98],\n",
       "       [5.02],\n",
       "       [5.06],\n",
       "       [5.1 ],\n",
       "       [5.14],\n",
       "       [5.18],\n",
       "       [5.22],\n",
       "       [5.26],\n",
       "       [5.3 ],\n",
       "       [5.34],\n",
       "       [5.38],\n",
       "       [5.42],\n",
       "       [5.46],\n",
       "       [5.5 ],\n",
       "       [5.54],\n",
       "       [5.58],\n",
       "       [5.62],\n",
       "       [5.66],\n",
       "       [5.7 ],\n",
       "       [5.74],\n",
       "       [5.78],\n",
       "       [5.82],\n",
       "       [5.86],\n",
       "       [5.9 ],\n",
       "       [5.94],\n",
       "       [5.98],\n",
       "       [6.02],\n",
       "       [6.06],\n",
       "       [6.1 ],\n",
       "       [6.14],\n",
       "       [6.18],\n",
       "       [6.22],\n",
       "       [6.26],\n",
       "       [6.3 ],\n",
       "       [6.34],\n",
       "       [6.38],\n",
       "       [6.42],\n",
       "       [6.46],\n",
       "       [6.5 ],\n",
       "       [6.54],\n",
       "       [6.58],\n",
       "       [6.62],\n",
       "       [6.66],\n",
       "       [6.7 ],\n",
       "       [6.74],\n",
       "       [6.78],\n",
       "       [6.82],\n",
       "       [6.86],\n",
       "       [6.9 ],\n",
       "       [6.94],\n",
       "       [6.98],\n",
       "       [7.02],\n",
       "       [7.06],\n",
       "       [7.1 ],\n",
       "       [7.14],\n",
       "       [7.18],\n",
       "       [7.22],\n",
       "       [7.26],\n",
       "       [7.3 ],\n",
       "       [7.34],\n",
       "       [7.38],\n",
       "       [7.42],\n",
       "       [7.46],\n",
       "       [7.5 ],\n",
       "       [7.54],\n",
       "       [7.58],\n",
       "       [7.62],\n",
       "       [7.66],\n",
       "       [7.7 ],\n",
       "       [7.74],\n",
       "       [7.78],\n",
       "       [7.82],\n",
       "       [7.86],\n",
       "       [7.9 ],\n",
       "       [7.94],\n",
       "       [7.98],\n",
       "       [8.02],\n",
       "       [8.06],\n",
       "       [8.1 ],\n",
       "       [8.14],\n",
       "       [8.18],\n",
       "       [8.22],\n",
       "       [8.26],\n",
       "       [8.3 ],\n",
       "       [8.34],\n",
       "       [8.38],\n",
       "       [8.42],\n",
       "       [8.46]])"
      ]
     },
     "execution_count": 23,
     "metadata": {},
     "output_type": "execute_result"
    }
   ],
   "source": [
    "X_test"
   ]
  },
  {
   "cell_type": "code",
   "execution_count": 29,
   "id": "1521b908",
   "metadata": {},
   "outputs": [],
   "source": [
    "lr_reg.fit(X_feature, y_target)\n",
    "rf_reg2.fit(X_feature, y_target)\n",
    "rf_reg7.fit(X_feature, y_target)\n",
    "\n",
    "pred_lr = lr_reg.predict(X_test)\n",
    "pred_rf2 = rf_reg2.predict(X_test)\n",
    "pred_rf7 = rf_reg7.predict(X_test)"
   ]
  },
  {
   "cell_type": "code",
   "execution_count": 32,
   "id": "e92e0f0a",
   "metadata": {},
   "outputs": [
    {
     "data": {
      "text/plain": [
       "[<matplotlib.lines.Line2D at 0x1d50bc33548>]"
      ]
     },
     "execution_count": 32,
     "metadata": {},
     "output_type": "execute_result"
    },
    {
     "data": {
      "image/png": "[encoded data removed]",
      "text/plain": [
       "<Figure size 1400x400 with 3 Axes>"
      ]
     },
     "metadata": {},
     "output_type": "display_data"
    }
   ],
   "source": [
    "fig , (ax1, ax2, ax3) = plt.subplots(figsize=(14, 4), ncols=3)\n",
    "\n",
    "#x축 값을 4.5-8.5로 변환하며 입력했을 때, 선형 회귀와 결정 트리 회귀 예측 선 시각화\n",
    "#선형 회귀로 학습된 모델 회귀 예측선\n",
    "ax1.set_title('Linear Regression')\n",
    "ax1.scatter(bostonDF_sample.RM, bostonDF_sample.PRICE, c='darkorange')\n",
    "ax1.plot(X_test, pred_lr,label='linear', linewidth=2)\n",
    "\n",
    "#decisionTreeRegressor의 max_depth를 2로 했을 때 회귀 예측선\n",
    "ax2.set_title('Decision Tree Regression: \\n max_depth=2')\n",
    "ax2.scatter(bostonDF_sample.RM, bostonDF_sample.PRICE, c=\"darkorange\")\n",
    "ax2.plot(X_test, pred_rf2, label=\"max_depth:3\", linewidth=2)\n",
    "\n",
    "#decisionTreeRegressor의 max_depth를 7로 했을 때 회귀 예측선\n",
    "ax3.set_title('Decision Tree Regression: \\n max_depth=7')\n",
    "ax3.scatter(bostonDF_sample.RM, bostonDF_sample.PRICE, c=\"darkorange\")\n",
    "ax3.plot(X_test, pred_rf7, label=\"max_depth:7\", linewidth=2)"
   ]
  },
  {
   "cell_type": "code",
   "execution_count": null,
   "id": "ae946856",
   "metadata": {},
   "outputs": [],
   "source": []
  },
  {
   "cell_type": "code",
   "execution_count": null,
   "id": "1ae7f09e",
   "metadata": {},
   "outputs": [],
   "source": []
  }
 ],
 "metadata": {
  "kernelspec": {
   "display_name": "Python 3 (ipykernel)",
   "language": "python",
   "name": "python3"
  },
  "language_info": {
   "codemirror_mode": {
    "name": "ipython",
    "version": 3
   },
   "file_extension": ".py",
   "mimetype": "text/x-python",
   "name": "python",
   "nbconvert_exporter": "python",
   "pygments_lexer": "ipython3",
   "version": "3.7.13"
  }
 },
 "nbformat": 4,
 "nbformat_minor": 5
}
