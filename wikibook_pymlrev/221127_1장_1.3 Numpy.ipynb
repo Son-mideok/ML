{
 "cells": [
  {
   "cell_type": "markdown",
   "id": "61b8d366",
   "metadata": {},
   "source": [
    "## Numpy ndarray 개요"
   ]
  },
  {
   "cell_type": "code",
   "execution_count": 2,
   "id": "8de4d35f",
   "metadata": {},
   "outputs": [],
   "source": [
    "import numpy as np"
   ]
  },
  {
   "cell_type": "markdown",
   "id": "b901c573",
   "metadata": {},
   "source": [
    "### 리스트, 튜플 차이점\n",
    "1. 값을 변화할 수 있는가 여부\n",
    "2.  t2 = (1,)처럼 단지 1개의 요소만을 가질 때는 요소 뒤에 콤마(,)를 반드시 붙여야 한다\n",
    "* array() 안에 하나의 리스트만 들어가므로 리스트의 리스트를 넣어야 한다."
   ]
  },
  {
   "cell_type": "code",
   "execution_count": 14,
   "id": "d9c6e897",
   "metadata": {},
   "outputs": [
    {
     "name": "stdout",
     "output_type": "stream",
     "text": [
      "array1 type: <class 'numpy.ndarray'>\n",
      "array1 array 형태: (3,)\n",
      "array2 type: <class 'numpy.ndarray'>\n",
      "array2 array 형태: (2, 3)\n",
      "array3 type: <class 'numpy.ndarray'>\n",
      "array3 array 형태: (1, 3)\n"
     ]
    }
   ],
   "source": [
    "# ndarray 는 N-dimensional Array의 약자\n",
    "\n",
    "array1 = np.array([1,2,3])\n",
    "print('array1 type:', type(array1))\n",
    "\n",
    "# 1차원 array로 3개 데이터, 명확하게 1차원 표현 (3,)\n",
    "# 1차원의 경우에는 (열,행): 1차원은 튜플이 하나만 있는거와 같기때문이다.\n",
    "print('array1 array 형태:',array1.shape) \n",
    "\n",
    "array2 = np.array([[1,2,3],\n",
    "                  [2,3,4]])\n",
    "print('array2 type:',type(array2))\n",
    "print('array2 array 형태:' , array2.shape)\n",
    "\n",
    "array3 = np.array([[1,2,3]])\n",
    "print('array3 type:', type(array3))\n",
    "\n",
    "# 2차원 array 6개 데이터, 명확하게 2차원 표현 (1,3)\n",
    "print('array3 array 형태:' ,array3.shape)"
   ]
  },
  {
   "cell_type": "code",
   "execution_count": 15,
   "id": "a35fc870",
   "metadata": {},
   "outputs": [
    {
     "name": "stdout",
     "output_type": "stream",
     "text": [
      "array1: 1차원, array2: 2차원, array3:  2차원\n"
     ]
    }
   ],
   "source": [
    "print('array1: {:0}차원, array2: {:1}차원, array3: {:2}차원'.format(array1.ndim, array2.ndim, array3.ndim))"
   ]
  },
  {
   "cell_type": "code",
   "execution_count": 16,
   "id": "1c2d93bf",
   "metadata": {},
   "outputs": [
    {
     "name": "stdout",
     "output_type": "stream",
     "text": [
      "<class 'list'>\n",
      "<class 'numpy.ndarray'>\n",
      "[1 2 3] int32\n"
     ]
    }
   ],
   "source": [
    "# ndarray 데이터값 숫자, 문자열, 불 값 등 모두 가능, 같은 데이터 타입만 가능\n",
    "list1 = [1,2,3]\n",
    "print(type(list1))\n",
    "array1 = np.array(list1)\n",
    "print(type(array1))\n",
    "print(array1, array1.dtype) # dtype 속성 확인"
   ]
  },
  {
   "cell_type": "code",
   "execution_count": 17,
   "id": "3ce175ca",
   "metadata": {},
   "outputs": [
    {
     "name": "stdout",
     "output_type": "stream",
     "text": [
      "['1' '2' 'test'] <U11\n",
      "[1. 2. 3.] float64\n"
     ]
    }
   ],
   "source": [
    "# 만약 다른 데이터 유형 섞여 있는 리스트 ndarray로 변경하면 \n",
    "# 데이터 크기가 더 큰 데이터 타입으로 형 변환 일괄적용\n",
    "\n",
    "list2 = [1, 2, 'test']\n",
    "array2 = np.array(list2)\n",
    "print(array2, array2.dtype)\n",
    "\n",
    "list3 = [1, 2, 3.0]\n",
    "array3 = np.array(list3)\n",
    "print(array3, array3.dtype)"
   ]
  },
  {
   "cell_type": "code",
   "execution_count": 21,
   "id": "f673a852",
   "metadata": {},
   "outputs": [
    {
     "name": "stdout",
     "output_type": "stream",
     "text": [
      "[1. 2. 3.] float64\n",
      "[1 2 3] int32\n",
      "[1 2 3] int32\n"
     ]
    }
   ],
   "source": [
    "array_int = np.array([1, 2, 3])\n",
    "array_float = array_int.astype('float64')\n",
    "print(array_float, array_float.dtype)\n",
    "\n",
    "array_int1=array_float.astype('int32')\n",
    "print(array_int1, array_int1.dtype)\n",
    "\n",
    "array_float1 = np.array([1.1, 2.1, 3.1])\n",
    "array_int2=array_float1.astype('int32')\n",
    "print(array_int2, array_int2.dtype)"
   ]
  },
  {
   "cell_type": "markdown",
   "id": "c4a57a09",
   "metadata": {},
   "source": [
    "### arange : 파이썬 표준 함수 range()와 유사한 기능\n",
    "* array를 range()로 표현"
   ]
  },
  {
   "cell_type": "code",
   "execution_count": 22,
   "id": "c6882188",
   "metadata": {},
   "outputs": [
    {
     "name": "stdout",
     "output_type": "stream",
     "text": [
      "[0 1 2 3 4 5 6 7 8 9]\n",
      "int32 (10,)\n"
     ]
    }
   ],
   "source": [
    "sequence_array = np.arange(10) # 0부터 함수 인자값 -1까지 값을 순차로 ndarray 데이터값으로 변환\n",
    "print(sequence_array)\n",
    "print(sequence_array.dtype, sequence_array.shape)"
   ]
  },
  {
   "cell_type": "markdown",
   "id": "4eca861f",
   "metadata": {},
   "source": [
    "### ndarray를 편리하게 생성하기 - arange, zeros, ones\n",
    "* zeros() : 튜플 형태 shape 값 입력하면 모든 값을 0으로 채운 해당 shape ndarray 반환\n",
    "* ones() : 튜플 형태 shape 값 입력하면 모든 값 1로 채운 shape ndarray 반환\n"
   ]
  },
  {
   "cell_type": "code",
   "execution_count": 7,
   "id": "a0eb5a35",
   "metadata": {},
   "outputs": [
    {
     "name": "stdout",
     "output_type": "stream",
     "text": [
      "[[0 0]\n",
      " [0 0]\n",
      " [0 0]]\n",
      "int32 (3, 2)\n",
      "[[1. 1.]\n",
      " [1. 1.]\n",
      " [1. 1.]]\n",
      "float64 (3, 2)\n"
     ]
    }
   ],
   "source": [
    "zero_array = np.zeros((3,2), dtype='int32')\n",
    "print(zero_array)\n",
    "print(zero_array.dtype, zero_array.shape)\n",
    "\n",
    "one_array = np.ones((3,2))\n",
    "print(one_array)\n",
    "print(one_array.dtype, one_array.shape)"
   ]
  },
  {
   "cell_type": "markdown",
   "id": "324eb8bd",
   "metadata": {},
   "source": [
    "### ndarray 차원과 크기를 변경하는 reshape()\n",
    "* reshpe : 지정한 사이즈로 변경 불가능하며 오류 발생"
   ]
  },
  {
   "cell_type": "code",
   "execution_count": 17,
   "id": "67200111",
   "metadata": {},
   "outputs": [
    {
     "name": "stdout",
     "output_type": "stream",
     "text": [
      "array1:\n",
      " [0 1 2 3 4 5 6 7 8 9]\n",
      "array2:\n",
      " [[0 1 2 3 4]\n",
      " [5 6 7 8 9]]\n",
      "array3:\n",
      " [[0 1]\n",
      " [2 3]\n",
      " [4 5]\n",
      " [6 7]\n",
      " [8 9]]\n"
     ]
    }
   ],
   "source": [
    "array1 = np.arange(10)\n",
    "print('array1:\\n', array1)\n",
    "\n",
    "array2 = array1.reshape(2,5)\n",
    "print('array2:\\n', array2)\n",
    "\n",
    "array3 = array1.reshape(5, 2)\n",
    "print('array3:\\n', array3)\n"
   ]
  },
  {
   "cell_type": "code",
   "execution_count": 18,
   "id": "dd30836d",
   "metadata": {},
   "outputs": [
    {
     "ename": "ValueError",
     "evalue": "cannot reshape array of size 10 into shape (4,3)",
     "output_type": "error",
     "traceback": [
      "\u001b[1;31m---------------------------------------------------------------------------\u001b[0m",
      "\u001b[1;31mValueError\u001b[0m                                Traceback (most recent call last)",
      "\u001b[1;32mc:\\Users\\virtue\\Desktop\\SeSAC\\pymlrev\\221106_1장_1.3 Numpy.ipynb 셀 15\u001b[0m in \u001b[0;36m<cell line: 1>\u001b[1;34m()\u001b[0m\n\u001b[1;32m----> <a href='vscode-notebook-cell:/c%3A/Users/virtue/Desktop/SeSAC/pymlrev/221106_1%EC%9E%A5_1.3%20Numpy.ipynb#X22sZmlsZQ%3D%3D?line=0'>1</a>\u001b[0m array1\u001b[39m.\u001b[39;49mreshape(\u001b[39m4\u001b[39;49m,\u001b[39m3\u001b[39;49m)\n",
      "\u001b[1;31mValueError\u001b[0m: cannot reshape array of size 10 into shape (4,3)"
     ]
    }
   ],
   "source": [
    "array1.reshape(4,3)"
   ]
  },
  {
   "cell_type": "code",
   "execution_count": 20,
   "id": "36635a7c",
   "metadata": {},
   "outputs": [
    {
     "name": "stdout",
     "output_type": "stream",
     "text": [
      "[0 1 2 3 4 5 6 7 8 9]\n",
      "array2 shape: (2, 5)\n",
      "array3 shpae: (5, 2)\n"
     ]
    }
   ],
   "source": [
    "array1 = np.arange(10)\n",
    "print(array1)\n",
    "array2 = array1.reshape(-1, 5)  # 로우 인자가 -1, 칼럼 인자가 5, 2 X 5\n",
    "print('array2 shape:', array2.shape)\n",
    "array3 = array1.reshape(5, -1)  # 5 X 2\n",
    "print('array3 shpae:', array3.shape)"
   ]
  },
  {
   "cell_type": "code",
   "execution_count": 7,
   "id": "51ee3c6d",
   "metadata": {},
   "outputs": [
    {
     "name": "stdout",
     "output_type": "stream",
     "text": [
      "array3d:\n",
      " [[[0, 1], [2, 3]], [[4, 5], [6, 7]]]\n",
      "array5:\n",
      " [[0], [1], [2], [3], [4], [5], [6], [7]]\n",
      "array6 shpae: (8, 1)\n",
      "array6: \n",
      " [[0], [1], [2], [3], [4], [5], [6], [7]]\n",
      "array6 shpae: (8, 1)\n"
     ]
    }
   ],
   "source": [
    "array1 = np.arange(8)\n",
    "array3d = array1.reshape((2, 2, 2))\n",
    "print('array3d:\\n', array3d.tolist())  # tolist 이용해 리스트 자료형으로 변환\n",
    "\n",
    "# 3차원 ndarray 2차원 ndarray 변환\n",
    "array5 = array3d.reshape(-1, 1)\n",
    "print('array5:\\n', array5.tolist())\n",
    "print('array6 shpae:', array5.shape)\n",
    "\n",
    "# 1차원 ndarray 2차원 ndarray 변환\n",
    "\n",
    "array6 = array1.reshape(-1, 1)\n",
    "print('array6: \\n', array6.tolist())\n",
    "print('array6 shpae:', array6.shape)\n"
   ]
  }
 ],
 "metadata": {
  "kernelspec": {
   "display_name": "Python 3.10.4 ('study')",
   "language": "python",
   "name": "python3"
  },
  "language_info": {
   "codemirror_mode": {
    "name": "ipython",
    "version": 3
   },
   "file_extension": ".py",
   "mimetype": "text/x-python",
   "name": "python",
   "nbconvert_exporter": "python",
   "pygments_lexer": "ipython3",
   "version": "3.10.4"
  },
  "vscode": {
   "interpreter": {
    "hash": "cdb3408ddd590d3368dab592099dfbb7bb79f8272c754c134a9f1c06d64a117d"
   }
  }
 },
 "nbformat": 4,
 "nbformat_minor": 5
}
