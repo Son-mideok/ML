{
 "cells": [
  {
   "cell_type": "code",
   "execution_count": 2,
   "metadata": {},
   "outputs": [],
   "source": [
    "# -*- coding: utf-8 -*-\n",
    "\n",
    "\n",
    "\n",
    "import csv\n",
    "import pymysql\n",
    "\n",
    "conn = pymysql.connect(host='localhost', user='root', password='1111', db='shoppingDB', charset='utf8')\n",
    "cur = conn.cursor()\n",
    "\n",
    "f = open('data.csv', 'r') # csv 파일이 utf8로 인코딩이 되어 있을때\n",
    "csvReader = list(csv.reader(f))\n",
    "cur.execute(\"CREATE TABLE IF NOT EXISTS sba (name char(10), sex char(1), class char(1), attend char(1))\")\n",
    "\n",
    "for data in csvReader[1:]: # csv 파일에 column 명이 있다면 csvReader[1:]로 설정하고 하면 된다.\n",
    "    row1 = data[0]\n",
    "    row2 = data[1]\n",
    "    row3 = data[2]\n",
    "    row4 = data[3]\n",
    "\n",
    "    sql = \"\"\"insert into sba (name, sex, class, attend) values(%s, %s, %s, %s);\"\"\"\n",
    "    cur.execute(sql, (row1, row2, row3, row4))\n",
    "\n",
    "f.close()\n",
    "conn.commit()"
   ]
  },
  {
   "cell_type": "code",
   "execution_count": null,
   "metadata": {},
   "outputs": [],
   "source": []
  }
 ],
 "metadata": {
  "kernelspec": {
   "display_name": "Python 3.10.4 ('study')",
   "language": "python",
   "name": "python3"
  },
  "language_info": {
   "codemirror_mode": {
    "name": "ipython",
    "version": 3
   },
   "file_extension": ".py",
   "mimetype": "text/x-python",
   "name": "python",
   "nbconvert_exporter": "python",
   "pygments_lexer": "ipython3",
   "version": "3.10.4"
  },
  "orig_nbformat": 4,
  "vscode": {
   "interpreter": {
    "hash": "cdb3408ddd590d3368dab592099dfbb7bb79f8272c754c134a9f1c06d64a117d"
   }
  }
 },
 "nbformat": 4,
 "nbformat_minor": 2
}
