{
 "cells": [
  {
   "cell_type": "markdown",
   "id": "61b8d366",
   "metadata": {},
   "source": [
    "## Numpy ndarray 개요"
   ]
  },
  {
   "cell_type": "code",
   "execution_count": 1,
   "id": "8de4d35f",
   "metadata": {},
   "outputs": [],
   "source": [
    "import numpy as np"
   ]
  },
  {
   "cell_type": "markdown",
   "id": "b901c573",
   "metadata": {},
   "source": [
    "### 리스트, 튜플 차이점\n",
    "1. 값을 변화할 수 있는가 여부\n",
    "2.  t2 = (1,)처럼 단지 1개의 요소만을 가질 때는 요소 뒤에 콤마(,)를 반드시 붙여야 한다\n",
    "3. t2 = (1,)처럼 단지 1개의 요소만을 가질 때는 요소 뒤에 콤마(,)를 반드시 붙여야 한다"
   ]
  },
  {
   "cell_type": "code",
   "execution_count": 14,
   "id": "d9c6e897",
   "metadata": {},
   "outputs": [
    {
     "name": "stdout",
     "output_type": "stream",
     "text": [
      "array1 type: <class 'numpy.ndarray'>\n",
      "array1 array 형태: (3,)\n",
      "array2 type: <class 'numpy.ndarray'>\n",
      "array2 array 형태: (2, 3)\n",
      "array3 type: <class 'numpy.ndarray'>\n",
      "array3 array 형태: (1, 3)\n"
     ]
    }
   ],
   "source": [
    "# ndarray 는 N-dimensional Array의 약자\n",
    "\n",
    "array1 = np.array([1,2,3])\n",
    "print('array1 type:', type(array1))\n",
    "\n",
    "# 1차원 array로 3개 데이터, 명확하게 1차원 표현 (3,)\n",
    "# 1차원의 경우에는 (열,행): 1차원은 튜플이 하나만 있는거와 같기때문이다.\n",
    "print('array1 array 형태:',array1.shape) \n",
    "\n",
    "array2 = np.array([[1,2,3],\n",
    "                  [2,3,4]])\n",
    "print('array2 type:',type(array2))\n",
    "print('array2 array 형태:' , array2.shape)\n",
    "\n",
    "array3 = np.array([[1,2,3]])\n",
    "print('array3 type:', type(array3))\n",
    "\n",
    "# 2차원 array 6개 데이터, 명확하게 2차원 표현 (1,3)\n",
    "print('array3 array 형태:' ,array3.shape)"
   ]
  },
  {
   "cell_type": "code",
   "execution_count": 15,
   "id": "a35fc870",
   "metadata": {},
   "outputs": [
    {
     "name": "stdout",
     "output_type": "stream",
     "text": [
      "array1: 1차원, array2: 2차원, array3:  2차원\n"
     ]
    }
   ],
   "source": [
    "print('array1: {:0}차원, array2: {:1}차원, array3: {:2}차원'.format(array1.ndim, array2.ndim, array3.ndim))"
   ]
  },
  {
   "cell_type": "code",
   "execution_count": 16,
   "id": "1c2d93bf",
   "metadata": {},
   "outputs": [
    {
     "name": "stdout",
     "output_type": "stream",
     "text": [
      "<class 'list'>\n",
      "<class 'numpy.ndarray'>\n",
      "[1 2 3] int32\n"
     ]
    }
   ],
   "source": [
    "# ndarray 데이터값 숫자, 문자열, 불 값 등 모두 가능, 같은 데이터 타입만 가능\n",
    "list1 = [1,2,3]\n",
    "print(type(list1))\n",
    "array1 = np.array(list1)\n",
    "print(type(array1))\n",
    "print(array1, array1.dtype) # dtype 속성 확인"
   ]
  },
  {
   "cell_type": "code",
   "execution_count": 17,
   "id": "3ce175ca",
   "metadata": {},
   "outputs": [
    {
     "name": "stdout",
     "output_type": "stream",
     "text": [
      "['1' '2' 'test'] <U11\n",
      "[1. 2. 3.] float64\n"
     ]
    }
   ],
   "source": [
    "# 만약 다른 데이터 유형 섞여 있는 리스트 ndarray로 변경하면 \n",
    "# 데이터 크기가 더 큰 데이터 타입으로 형 변환 일괄적용\n",
    "\n",
    "list2 = [1, 2, 'test']\n",
    "array2 = np.array(list2)\n",
    "print(array2, array2.dtype)\n",
    "\n",
    "list3 = [1, 2, 3.0]\n",
    "array3 = np.array(list3)\n",
    "print(array3, array3.dtype)"
   ]
  },
  {
   "cell_type": "code",
   "execution_count": null,
   "id": "f673a852",
   "metadata": {},
   "outputs": [],
   "source": []
  }
 ],
 "metadata": {
  "kernelspec": {
   "display_name": "Python 3 (ipykernel)",
   "language": "python",
   "name": "python3"
  },
  "language_info": {
   "codemirror_mode": {
    "name": "ipython",
    "version": 3
   },
   "file_extension": ".py",
   "mimetype": "text/x-python",
   "name": "python",
   "nbconvert_exporter": "python",
   "pygments_lexer": "ipython3",
   "version": "3.9.12"
  }
 },
 "nbformat": 4,
 "nbformat_minor": 5
}
