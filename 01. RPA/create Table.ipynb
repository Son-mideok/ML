{
 "cells": [
  {
   "cell_type": "code",
   "execution_count": null,
   "metadata": {},
   "outputs": [],
   "source": [
    "import pymysql\n",
    "\n",
    "# 전역변수 선언부\n",
    "conn, cur = None, None\n",
    "data1, data2, data3, data4 = \"\", \"\", \"\",\"\"\n",
    "sql=\"\"\n",
    "\n",
    "# 메인 코드\n",
    "conn = pymysql.connect(host='localhost', user='root', password='1111', db='shoppingDB', charset='utf8')\n",
    "cur = conn.cursor()\n",
    "\n",
    "cur.execute(\"CREATE TABLE IF NOT EXISTS userTable (id char(4), userName \\\n",
    "    char(15), email char(20), birthYear int)\")"
   ]
  }
 ],
 "metadata": {
  "language_info": {
   "name": "python"
  },
  "orig_nbformat": 4
 },
 "nbformat": 4,
 "nbformat_minor": 2
}
