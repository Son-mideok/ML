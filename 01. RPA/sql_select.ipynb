{
 "cells": [
  {
   "cell_type": "code",
   "execution_count": 1,
   "metadata": {},
   "outputs": [
    {
     "name": "stdout",
     "output_type": "stream",
     "text": [
      "사용자ID    사용자이름   이메일    출생연도\n",
      "---------------------------------------------------\n",
      " john        john Bann   john@naver.com  1990\n",
      "  kim         kim mike    kim@naver.com  1980\n",
      " park      park minseo   park@naver.com  2000\n"
     ]
    }
   ],
   "source": [
    "import pymysql\n",
    "\n",
    "# 전역변수 선언부\n",
    "conn, cur = None, None\n",
    "data1, data2, data3, data4 = \"\",\"\",\"\",\"\"\n",
    "row=None\n",
    "\n",
    "# 메인 코드\n",
    "conn = pymysql.connect(host='localhost', user='root', password='1111', db='shoppingDB', charset='utf8')\n",
    "cur = conn.cursor()\n",
    "\n",
    "cur.execute(\"SELECT * FROM userTable\")\n",
    "\n",
    "print(\"사용자ID    사용자이름   이메일    출생연도\")\n",
    "print(\"---------------------------------------------------\")\n",
    "\n",
    "\n",
    "while(True) :\n",
    "    row = cur.fetchone()\n",
    "    if row== None :\n",
    "        break\n",
    "    data1 = row[0]\n",
    "    data2 = row[1]\n",
    "    data3 = row[2]\n",
    "    data4 = row[3]\n",
    "    print(\"%5s  %15s  %15s  %d\" %(data1, data2, data3, data4))\n",
    "\n",
    "conn.close()"
   ]
  },
  {
   "cell_type": "code",
   "execution_count": null,
   "metadata": {},
   "outputs": [],
   "source": []
  }
 ],
 "metadata": {
  "kernelspec": {
   "display_name": "Python 3.10.4 ('study')",
   "language": "python",
   "name": "python3"
  },
  "language_info": {
   "codemirror_mode": {
    "name": "ipython",
    "version": 3
   },
   "file_extension": ".py",
   "mimetype": "text/x-python",
   "name": "python",
   "nbconvert_exporter": "python",
   "pygments_lexer": "ipython3",
   "version": "3.10.4"
  },
  "orig_nbformat": 4,
  "vscode": {
   "interpreter": {
    "hash": "cdb3408ddd590d3368dab592099dfbb7bb79f8272c754c134a9f1c06d64a117d"
   }
  }
 },
 "nbformat": 4,
 "nbformat_minor": 2
}
